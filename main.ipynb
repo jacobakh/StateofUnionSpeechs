{
 "cells": [
  {
   "cell_type": "markdown",
   "metadata": {},
   "source": [
    "# An analysis of the State of the Union speeches\n",
    "\n",
    "**Authors:** Yakub Akhmerov, Akhil Jalan, and Ken Zhong"
   ]
  },
  {
   "cell_type": "markdown",
   "metadata": {},
   "source": [
    "## Abstract\n",
    "\n",
    "In this project, we sought to explore a dataset of Presidential speeches ranging from 1790 to 2017. There are 227 unique speeches delivered by 42 presidents, which mostly consist of the annual State of the Union Address. By building a \"shared vocabulary\" consisting of all of the words used in at least one speech, we compared and contrasted Presidents by the frequency with which they used certain words. We mainly used dimensionality reduction techniques for visualization, and built a k-nearest neighbors classifier for prediction. "
   ]
  },
  {
   "cell_type": "markdown",
   "metadata": {},
   "source": [
    "## ...\n",
    "\n",
    "Provide here a summary of the results of all 5 parts of the analysis, rendering the necessary figures, tables and conclusions.  You can load variables from your `results/` directory if you want to render summary statsitics or tables, and read figures from the `fig/` directory to display them, but there should be *no substantial computation* of any kind here."
   ]
  },
  {
   "cell_type": "code",
   "execution_count": null,
   "metadata": {
    "collapsed": true
   },
   "outputs": [],
   "source": []
  }
 ],
 "metadata": {
  "kernelspec": {
   "display_name": "Python 3",
   "language": "python",
   "name": "python3"
  },
  "language_info": {
   "codemirror_mode": {
    "name": "ipython",
    "version": 3
   },
   "file_extension": ".py",
   "mimetype": "text/x-python",
   "name": "python",
   "nbconvert_exporter": "python",
   "pygments_lexer": "ipython3",
   "version": "3.6.1"
  }
 },
 "nbformat": 4,
 "nbformat_minor": 2
}
