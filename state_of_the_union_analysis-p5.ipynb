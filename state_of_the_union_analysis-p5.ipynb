{
 "cells": [
  {
   "cell_type": "markdown",
   "metadata": {
    "deletable": true,
    "editable": true
   },
   "source": [
    "# An analysis of the State of the Union speeches - Part 5\n",
    "\n",
    "In this notebook, you should explore one question or idea of your own from this dataset.  Provide the code and computations here, and summarize your points in the [main](main.ipynb) notebook.\n",
    "\n",
    "## Idea \n",
    "\n",
    "In our previous notebooks, we've turned each speech in the dataset into a vector in $\\mathbb{R}^{n}$ where $n$ is the number of words across all of the speeches. Each speech vector $\\vec{v} \\in \\mathbb{R}^{n}$ represents a *count* of the number of occurrences of a particular word in that speech. For example, if George Washington's first state of the union used the word \"America\" 12 times, then the corresponding entry in that speech's vector would have a value of $12$. \n",
    "\n",
    "We want to use this data representation to train a classification algorithm known as **k-nearest neighbors**. The idea is that we use a training set consisting of some of the Presidential speeches to train the algorithm. Then, when a new vector (corresponding to a speech) is presented, the algorithm looks the $k$ (say, $3$) \"nearest\" neighbors in this high-dimensional space and takes a vote amongst their labels. For example, the 4 nearest neighbors of a test data point might be George Washington, George Washington, George Washington, and Thomas Jefferson. The algorithm takes a \n",
    "\n",
    "## Preprocessing\n",
    "\n",
    "Here, we access the previous vectorized speech data, and pre-process by: \n",
    "\n",
    "1. Scaling the data so that the entries in each vector add up to $100$. This is necessary in a k-nearest neighbors algorithm because otherwise the distance from one vector to another is dominated by the components which happen to take on a larger range of values. \n",
    "\n",
    "2. Separating the data into a test and training set. The test set consists of 1 speech for each president, while the training set is all other speeches. "
   ]
  },
  {
   "cell_type": "code",
   "execution_count": null,
   "metadata": {
    "collapsed": true,
    "deletable": true,
    "editable": true
   },
   "outputs": [],
   "source": []
  }
 ],
 "metadata": {
  "kernelspec": {
   "display_name": "Python 3",
   "language": "python",
   "name": "python3"
  },
  "language_info": {
   "codemirror_mode": {
    "name": "ipython",
    "version": 3
   },
   "file_extension": ".py",
   "mimetype": "text/x-python",
   "name": "python",
   "nbconvert_exporter": "python",
   "pygments_lexer": "ipython3",
   "version": "3.6.0"
  }
 },
 "nbformat": 4,
 "nbformat_minor": 2
}
