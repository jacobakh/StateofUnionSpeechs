{
 "cells": [
  {
   "cell_type": "markdown",
   "metadata": {
    "deletable": true,
    "editable": true
   },
   "source": [
    "# An analysis of the State of the Union speeches - Part 1"
   ]
  },
  {
   "cell_type": "code",
   "execution_count": 25,
   "metadata": {
    "collapsed": true,
    "deletable": true,
    "editable": true
   },
   "outputs": [],
   "source": [
    "%matplotlib inline\n",
    "import matplotlib.pyplot as plt\n",
    "import numpy as np\n",
    "import pandas as pd\n",
    "import seaborn as sns\n",
    "import datetime\n",
    "import shelve\n",
    "import re #for string splitting\n",
    "import csv #for writing to CSV file\n",
    "\n",
    "plt.style.use('seaborn-dark')\n",
    "plt.rcParams['figure.figsize'] = (10, 6)"
   ]
  },
  {
   "cell_type": "markdown",
   "metadata": {
    "deletable": true,
    "editable": true
   },
   "source": [
    "This is a \"hollowed out\" version of my complete analysis, leaving you a few results to check your progress:"
   ]
  },
  {
   "cell_type": "code",
   "execution_count": 78,
   "metadata": {
    "collapsed": true,
    "deletable": true,
    "editable": true
   },
   "outputs": [],
   "source": [
    "speech_metadata = pd.DataFrame(columns = ['President', 'Speech', 'Date', 'Date (String)'])\n",
    "\n",
    "def read_speech_meta(string): \n",
    "    vals = string.split(',')\n",
    "    d = {}\n",
    "    d['President'] = vals[0].strip()\n",
    "    d['Speech'] = vals[1].strip()\n",
    "    date_string = (vals[2] + vals[3]).strip()\n",
    "    d['Date'] = datetime.datetime.strptime(date_string, '%B %d %Y')\n",
    "    d['Date (String)'] = date_string\n",
    "    return d\n",
    "\n",
    "'''Custom function designed to read a list of strings that contain \n",
    "the speech name, speaker, and date corresponding to a Presidential speech.\n",
    "Example: ['State of the Union Address', 'George Washington', 'January 8, 1790']'''\n",
    "\n",
    "def read_speech_meta_list(str_list): \n",
    "    d = {}\n",
    "    d['President'] = str_list[1].strip()\n",
    "    d['Speech'] = str_list[0].strip()\n",
    "    date_string = str_list[2].strip()\n",
    "    d['Date'] = datetime.datetime.strptime(date_string, '%B %d, %Y')\n",
    "    d['Date (String)'] = date_string\n",
    "    return d\n",
    "\n",
    "SEPARATORS = '[\\'\\\":\\n\\t,-.()%$;?!@#$^&_+=<>/\\{}\\[\\] ]'\n",
    "\n",
    "'''Removes all occurrences of the empty string from a list of strings'''\n",
    "def remove_empty_strings(list_of_strings): \n",
    "    return list(filter(lambda elem: elem != '', list_of_strings)) \n",
    "\n",
    "'''Splits lines according to the SEPARATORS above and the python regex package.\n",
    "Returns a list of all the words in the speech, with repeats.'''\n",
    "def split_text_lines(list_of_lines): \n",
    "    all_words_with_repeats = []\n",
    "    for line in list_of_lines: \n",
    "        split_line = remove_empty_strings(re.split(SEPARATORS, line))\n",
    "        all_words_with_repeats += split_line\n",
    "    return all_words_with_repeats\n",
    "\n",
    "'''Returns a dictionary whose keys are POSSIBLE_WORDS. The value at each key \n",
    "is an integer which is the number of occurrences of that word in WORD_OCURRENCE_LIST'''\n",
    "def word_count_dict(possible_words, word_occurrence_list): \n",
    "    count_dict = dict.fromkeys(possible_words, 0)\n",
    "    for word in word_occurrence_list: \n",
    "        count_dict[word] += 1 \n",
    "    return count_dict"
   ]
  },
  {
   "cell_type": "code",
   "execution_count": 79,
   "metadata": {
    "collapsed": false,
    "deletable": true,
    "editable": true
   },
   "outputs": [],
   "source": [
    "'''In this cell, we read and organize the data into a CSV file. You can \n",
    "run this cell again if you like, but there is no need.'''\n",
    "\n",
    "np.random.seed(777)\n",
    "\n",
    "all_unique_words = set()\n",
    "    \n",
    "with open('data/stateoftheunion1790-2017.txt', 'r') as g:\n",
    "    '''First, we ingest the metadata.'''\n",
    "    f = g.read().split('***') #read only first 10,000 characters of the file to ingest metadata\n",
    "    meta = f[0].split('\\n') #f[0] is the metadata entry. split by line. \n",
    "    contents_index = meta.index('CONTENTS') #get the index of the line that indicates the beginning of contents.\n",
    "\n",
    "    #remove the first few lines, and empty lines\n",
    "    meta = remove_empty_strings(meta[contents_index + 2:])\n",
    "    \n",
    "    #each line has details of a speech. Ingest into the dataframe\n",
    "    for line in meta: \n",
    "        new_series = pd.Series(read_speech_meta(line))\n",
    "        speech_metadata = speech_metadata.append(new_series, ignore_index=True)\n",
    "    \n",
    "\n",
    "    '''We make a first pass through the speeches to create a set of all the unique words used.'''\n",
    "    for i in range(1, len(f)): \n",
    "        current_speech = f[i].lower()\n",
    "        speech_lines = remove_empty_strings(current_speech.split('\\n'))\n",
    "        \n",
    "        meta_lines = speech_lines[:3]\n",
    "        content_lines = speech_lines[3:]\n",
    "        \n",
    "        all_speech_words = split_text_lines(content_lines) #this is a list with repeats\n",
    "        all_unique_words.update(set(all_speech_words)) #cast list to a set and update all_unique_words\n",
    "    \n",
    "    '''In our second pass, we write all of the word counts to a CSV file.'''\n",
    "    with open('data/speech_word_counts.csv', 'w') as csv_file:\n",
    "        csv_fieldnames = ['President', 'Speech', 'Date', 'Date (String)']\n",
    "        csv_fieldnames += list(all_unique_words)\n",
    "        writer = csv.DictWriter(csv_file, fieldnames=csv_fieldnames)\n",
    "        writer.writeheader()\n",
    "        for j in range(1, len(f)): \n",
    "            current_speech = f[j].lower()\n",
    "            speech_lines = remove_empty_strings(current_speech.split('\\n'))\n",
    "            \n",
    "            meta_lines = speech_lines[:3]\n",
    "            meta_dict = read_speech_meta_list(meta_lines)\n",
    "            \n",
    "            content_lines = speech_lines[3:]\n",
    "            all_speech_words = split_text_lines(content_lines) #this is a list with repeats\n",
    "            content_dict = word_count_dict(all_unique_words, all_speech_words)\n",
    "            \n",
    "            csv_row_dict = {**meta_dict, **content_dict}\n",
    "            writer.writerow(csv_row_dict)"
   ]
  },
  {
   "cell_type": "code",
   "execution_count": null,
   "metadata": {
    "collapsed": false,
    "deletable": true,
    "editable": true
   },
   "outputs": [],
   "source": [
    "all_speeches_df = pd.read_csv('data/speech_word_counts.csv')"
   ]
  },
  {
   "cell_type": "code",
   "execution_count": 85,
   "metadata": {
    "collapsed": false,
    "deletable": true,
    "editable": true
   },
   "outputs": [
    {
     "name": "stdout",
     "output_type": "stream",
     "text": [
      "Object `io.TextIOWrapper` not found.\n"
     ]
    }
   ],
   "source": [
    "import os\n",
    "os.getcwd()\n",
    "?io.TextIOWrapper()"
   ]
  },
  {
   "cell_type": "markdown",
   "metadata": {
    "deletable": true,
    "editable": true
   },
   "source": [
    "Let's take a first look at a high-level summary of what we have so far:"
   ]
  },
  {
   "cell_type": "code",
   "execution_count": 35,
   "metadata": {
    "collapsed": true,
    "deletable": true,
    "editable": true
   },
   "outputs": [],
   "source": [
    "?pd.read_table"
   ]
  },
  {
   "cell_type": "code",
   "execution_count": 9,
   "metadata": {
    "collapsed": false,
    "deletable": true,
    "editable": true
   },
   "outputs": [
    {
     "data": {
      "text/plain": [
       "count                       227\n",
       "unique                       42\n",
       "top       Franklin D. Roosevelt\n",
       "freq                         12\n",
       "Name: president, dtype: object"
      ]
     },
     "execution_count": 9,
     "metadata": {},
     "output_type": "execute_result"
    }
   ],
   "source": [
    "# Describe the presidents data\n"
   ]
  },
  {
   "cell_type": "markdown",
   "metadata": {
    "deletable": true,
    "editable": true
   },
   "source": [
    "Let's find the dates of the first and last address, and how much time has passed between those:"
   ]
  },
  {
   "cell_type": "code",
   "execution_count": 13,
   "metadata": {
    "collapsed": false,
    "deletable": true,
    "editable": true
   },
   "outputs": [
    {
     "data": {
      "text/plain": [
       "227.13210130047912"
      ]
     },
     "execution_count": 13,
     "metadata": {},
     "output_type": "execute_result"
    }
   ],
   "source": [
    "# This is roughly the number of years between the first and last address:\n"
   ]
  },
  {
   "cell_type": "markdown",
   "metadata": {
    "deletable": true,
    "editable": true
   },
   "source": [
    "Let's see during which months are the speeches most frequently delivered:"
   ]
  },
  {
   "cell_type": "code",
   "execution_count": 15,
   "metadata": {
    "collapsed": false,
    "deletable": true,
    "editable": true
   },
   "outputs": [
    {
     "data": {
      "text/plain": [
       "January       75\n",
       "February      12\n",
       "March          0\n",
       "April          0\n",
       "May            0\n",
       "June           0\n",
       "July           0\n",
       "August         0\n",
       "September      2\n",
       "October        3\n",
       "November      11\n",
       "December     124\n",
       "Name: Address counts, dtype: int64"
      ]
     },
     "execution_count": 15,
     "metadata": {},
     "output_type": "execute_result"
    }
   ],
   "source": [
    "# This is a count of the number of addresses delivered on any given month\n",
    "acounts"
   ]
  },
  {
   "cell_type": "code",
   "execution_count": 16,
   "metadata": {
    "collapsed": false,
    "deletable": true,
    "editable": true
   },
   "outputs": [
    {
     "data": {
      "image/png": "[encoded data removed]",
      "text/plain": [
       "<matplotlib.figure.Figure at 0x1a16df44a8>"
      ]
     },
     "metadata": {},
     "output_type": "display_data"
    }
   ],
   "source": [
    "# And this is a plot of these:\n",
    "plt.savefig('fig/addresses_month.png');"
   ]
  },
  {
   "cell_type": "markdown",
   "metadata": {
    "deletable": true,
    "editable": true
   },
   "source": [
    "Let's look at the distribution of differences between successive speeches:"
   ]
  },
  {
   "cell_type": "markdown",
   "metadata": {
    "deletable": true,
    "editable": true
   },
   "source": [
    "Where is the largest gap? We can ask the `ddiff` series for its location:"
   ]
  },
  {
   "cell_type": "code",
   "execution_count": 18,
   "metadata": {
    "collapsed": false,
    "deletable": true,
    "editable": true
   },
   "outputs": [
    {
     "data": {
      "text/plain": [
       "104"
      ]
     },
     "execution_count": 18,
     "metadata": {},
     "output_type": "execute_result"
    }
   ],
   "source": [
    "# this is the index of the largest gap:\n",
    "dgap"
   ]
  },
  {
   "cell_type": "markdown",
   "metadata": {
    "deletable": true,
    "editable": true
   },
   "source": [
    "Let's look at the dates around this index:"
   ]
  },
  {
   "cell_type": "code",
   "execution_count": 19,
   "metadata": {
    "collapsed": false,
    "deletable": true,
    "editable": true
   },
   "outputs": [
    {
     "data": {
      "text/plain": [
       "102   1891-12-09\n",
       "103   1892-12-06\n",
       "104   1897-12-06\n",
       "105   1898-12-05\n",
       "Name: date, dtype: datetime64[ns]"
      ]
     },
     "execution_count": 19,
     "metadata": {},
     "output_type": "execute_result"
    }
   ],
   "source": [
    "dates[dgap-2 : dgap+2]"
   ]
  },
  {
   "cell_type": "markdown",
   "metadata": {
    "deletable": true,
    "editable": true
   },
   "source": [
    "As well as a plot of these times:"
   ]
  },
  {
   "cell_type": "code",
   "execution_count": 20,
   "metadata": {
    "collapsed": false,
    "deletable": true,
    "editable": true
   },
   "outputs": [
    {
     "data": {
      "image/png": "[encoded data removed]",
      "text/plain": [
       "<matplotlib.figure.Figure at 0x1a1e652978>"
      ]
     },
     "metadata": {},
     "output_type": "display_data"
    }
   ],
   "source": [
    "# A plot of the times, along with 'rug' markers on the x axis.\n",
    "f.savefig('fig/timeline.png')"
   ]
  },
  {
   "cell_type": "markdown",
   "metadata": {
    "deletable": true,
    "editable": true
   },
   "source": [
    "What happened at that gap?"
   ]
  },
  {
   "cell_type": "markdown",
   "metadata": {
    "deletable": true,
    "editable": true
   },
   "source": [
    "## Intermediate results\n",
    "\n",
    "Let's save some intermediate results for further analysis. This lets us work on subsequent notebooks  without rerunning this one.  We use the Pandas HDF5 support for efficient and type-safe serialization of data frames, and the python builtin [shelve](https://docs.python.org/3/library/shelve.html) module for simple Python variables.  We'll create for each notebook variable stores with the notebook number, one for dataframes (`df1.h5`, `df2.h5`, etc.) and one for python variables (`vars1.db`, `vars2.db`, etc.).  These will all go into the `results/` subdirectory."
   ]
  },
  {
   "cell_type": "code",
   "execution_count": 21,
   "metadata": {
    "collapsed": true,
    "deletable": true,
    "editable": true
   },
   "outputs": [],
   "source": [
    "addresses.to_hdf('results/df1.h5', 'addresses')\n",
    "with shelve.open('results/vars1') as db:\n",
    "    db['speeches'] = speeches"
   ]
  }
 ],
 "metadata": {
  "kernelspec": {
   "display_name": "Python 3",
   "language": "python",
   "name": "python3"
  },
  "language_info": {
   "codemirror_mode": {
    "name": "ipython",
    "version": 3
   },
   "file_extension": ".py",
   "mimetype": "text/x-python",
   "name": "python",
   "nbconvert_exporter": "python",
   "pygments_lexer": "ipython3",
   "version": "3.6.0"
  }
 },
 "nbformat": 4,
 "nbformat_minor": 2
}
