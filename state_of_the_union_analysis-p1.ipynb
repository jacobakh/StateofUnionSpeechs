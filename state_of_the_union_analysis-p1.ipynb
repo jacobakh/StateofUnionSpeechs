{
 "cells": [
  {
   "cell_type": "markdown",
   "metadata": {
    "deletable": true,
    "editable": true
   },
   "source": [
    "# An analysis of the State of the Union speeches - Part 1"
   ]
  },
  {
   "cell_type": "markdown",
   "metadata": {
    "deletable": true,
    "editable": true
   },
   "source": [
    "## Data Ingestion\n",
    "\n",
    "We begin by ingesting the dataset. We have a text file of all speeches with some accompanying metadata (the President who delivered the speech, the type of speech, and date of delivery). We will load the speeches into a CSV file whose columns are the metadata fields (the President who delivered the speech, the type of speech, and date of delivery), and then every unique word delivered in all of the speeches, and the count for each one. This CSV file means we can easily access the data in question without having to repeat the script which loads and organizes the data in the txt file. Once a CSV is made, we can easily read it into a Pandas dataframe."
   ]
  },
  {
   "cell_type": "code",
   "execution_count": 152,
   "metadata": {
    "collapsed": true,
    "deletable": true,
    "editable": true
   },
   "outputs": [],
   "source": [
    "%matplotlib inline\n",
    "import matplotlib.pyplot as plt\n",
    "import numpy as np\n",
    "import pandas as pd\n",
    "import seaborn as sns\n",
    "import datetime\n",
    "import shelve\n",
    "import re #for string splitting\n",
    "\n",
    "plt.style.use('seaborn-dark')\n",
    "sns.set_style('whitegrid')\n",
    "plt.rcParams['figure.figsize'] = (10, 6)"
   ]
  },
  {
   "cell_type": "markdown",
   "metadata": {
    "deletable": true,
    "editable": true
   },
   "source": [
    "First, we'll define some useful functions."
   ]
  },
  {
   "cell_type": "code",
   "execution_count": 153,
   "metadata": {
    "collapsed": true,
    "deletable": true,
    "editable": true
   },
   "outputs": [],
   "source": [
    "speech_metadata = pd.DataFrame(columns = ['President', 'Speech', 'Date', 'Date (String)'])\n",
    "\n",
    "def read_speech_meta(string): \n",
    "    vals = string.split(',')\n",
    "    d = {}\n",
    "    d['President'] = vals[0].strip()\n",
    "    d['Speech'] = vals[1].strip()\n",
    "    date_string = (vals[2] + vals[3]).strip()\n",
    "    d['Date'] = datetime.datetime.strptime(date_string, '%B %d %Y')\n",
    "    d['Date (String)'] = date_string\n",
    "    return d\n",
    "\n",
    "'''Custom function designed to read a list of strings that contain \n",
    "the speech name, speaker, and date corresponding to a Presidential speech.\n",
    "Example: ['State of the Union Address', 'George Washington', 'January 8, 1790']'''\n",
    "\n",
    "def read_speech_meta_list(str_list): \n",
    "    d = {}\n",
    "    d['President'] = str_list[0].strip()\n",
    "    d['Speech'] = str_list[1].strip()\n",
    "    date_string = (str_list[2] + str_list[3]).strip()\n",
    "    d['Date'] = datetime.datetime.strptime(date_string, '%B %d, %Y')\n",
    "    d['Date (String)'] = date_string\n",
    "    return d\n",
    "\n",
    "SEPARATORS = '[\\'\\\":\\n\\t,-.()%$;?!@#$^&_+=<>/\\{}\\[\\] ]'\n",
    "\n",
    "'''Removes all occurrences of the empty string from a list of strings'''\n",
    "def remove_empty_strings(list_of_strings): \n",
    "    return list(filter(lambda elem: elem != '', list_of_strings)) \n",
    "\n",
    "'''Splits lines according to the SEPARATORS above and the python regex package.\n",
    "Returns a list of all the words in the speech, with repeats.'''\n",
    "def split_text_lines(list_of_lines): \n",
    "    all_words_with_repeats = []\n",
    "    for line in list_of_lines: \n",
    "        split_line = remove_empty_strings(re.split(SEPARATORS, line))\n",
    "        all_words_with_repeats += split_line\n",
    "    return all_words_with_repeats\n",
    "\n",
    "'''Returns a dictionary whose keys are POSSIBLE_WORDS. The value at each key \n",
    "is an integer which is the number of occurrences of that word in WORD_OCURRENCE_LIST'''\n",
    "def word_count_dict(possible_words, word_occurrence_list): \n",
    "    count_dict = dict.fromkeys(possible_words, 0)\n",
    "    for word in word_occurrence_list: \n",
    "        count_dict[word] += 1 \n",
    "    return count_dict"
   ]
  },
  {
   "cell_type": "code",
   "execution_count": 154,
   "metadata": {
    "collapsed": false,
    "deletable": true,
    "editable": true
   },
   "outputs": [],
   "source": [
    "'''In this cell, we read the meta-data of the speeches and store it in a dataframe.'''\n",
    "\n",
    "addresses_df = pd.DataFrame(index=['President', 'Speech', 'Date', 'Date (String)'])\n",
    "# addresses_df = addresses_df.fillna(0)\n",
    "# addresses_df = addresses_df.dropna()\n",
    "\n",
    "with open('data/stateoftheunion1790-2017.txt', 'r') as g:\n",
    "    txt_file_chunks = g.read().split('***') \n",
    "    meta = txt_file_chunks[0].split('\\n') #f[0] is the metadata entry. split by line. \n",
    "    contents_index = meta.index('CONTENTS') #get the index of the line that indicates the beginning of contents.\n",
    "    meta = remove_empty_strings(meta[contents_index + 2:])\n",
    "    for line in meta: \n",
    "        new_series = pd.Series(read_speech_meta(line))\n",
    "        addresses_df = addresses_df.append(new_series, ignore_index=True)\n",
    "# addresses_df = addresses_df.drop(labels=[0, 1, 2, 3])\n",
    "addresses_df.dropna(inplace=True)\n",
    "addresses_df.reset_index(drop=True, inplace=True)"
   ]
  },
  {
   "cell_type": "code",
   "execution_count": 155,
   "metadata": {
    "collapsed": true,
    "deletable": true,
    "editable": true
   },
   "outputs": [],
   "source": [
    "'''Function to convert Date string in CSV file to Datetime object.\n",
    "In Pandas, this is a Timestamp object.'''\n",
    "str_to_date = lambda date_str: datetime.datetime.strptime(date_str, '%Y-%m-%d %H:%M:%S')"
   ]
  },
  {
   "cell_type": "markdown",
   "metadata": {
    "deletable": true,
    "editable": true
   },
   "source": [
    "Let's take a first look at a high-level summary of what we have so far:"
   ]
  },
  {
   "cell_type": "code",
   "execution_count": 158,
   "metadata": {
    "collapsed": false,
    "deletable": true,
    "editable": true
   },
   "outputs": [
    {
     "data": {
      "text/html": [
       "<div>\n",
       "<style>\n",
       "    .dataframe thead tr:only-child th {\n",
       "        text-align: right;\n",
       "    }\n",
       "\n",
       "    .dataframe thead th {\n",
       "        text-align: left;\n",
       "    }\n",
       "\n",
       "    .dataframe tbody tr th {\n",
       "        vertical-align: top;\n",
       "    }\n",
       "</style>\n",
       "<table border=\"1\" class=\"dataframe\">\n",
       "  <thead>\n",
       "    <tr style=\"text-align: right;\">\n",
       "      <th></th>\n",
       "      <th>Date</th>\n",
       "      <th>Date (String)</th>\n",
       "      <th>President</th>\n",
       "      <th>Speech</th>\n",
       "    </tr>\n",
       "  </thead>\n",
       "  <tbody>\n",
       "    <tr>\n",
       "      <th>count</th>\n",
       "      <td>227</td>\n",
       "      <td>227</td>\n",
       "      <td>227</td>\n",
       "      <td>227</td>\n",
       "    </tr>\n",
       "    <tr>\n",
       "      <th>unique</th>\n",
       "      <td>227</td>\n",
       "      <td>227</td>\n",
       "      <td>42</td>\n",
       "      <td>4</td>\n",
       "    </tr>\n",
       "    <tr>\n",
       "      <th>top</th>\n",
       "      <td>1976-01-19 00:00:00</td>\n",
       "      <td>December 6 1921</td>\n",
       "      <td>Franklin D. Roosevelt</td>\n",
       "      <td>State of the Union Address</td>\n",
       "    </tr>\n",
       "    <tr>\n",
       "      <th>freq</th>\n",
       "      <td>1</td>\n",
       "      <td>1</td>\n",
       "      <td>12</td>\n",
       "      <td>222</td>\n",
       "    </tr>\n",
       "    <tr>\n",
       "      <th>first</th>\n",
       "      <td>1790-01-08 00:00:00</td>\n",
       "      <td>NaN</td>\n",
       "      <td>NaN</td>\n",
       "      <td>NaN</td>\n",
       "    </tr>\n",
       "    <tr>\n",
       "      <th>last</th>\n",
       "      <td>2017-02-27 00:00:00</td>\n",
       "      <td>NaN</td>\n",
       "      <td>NaN</td>\n",
       "      <td>NaN</td>\n",
       "    </tr>\n",
       "  </tbody>\n",
       "</table>\n",
       "</div>"
      ],
      "text/plain": [
       "                       Date    Date (String)              President  \\\n",
       "count                   227              227                    227   \n",
       "unique                  227              227                     42   \n",
       "top     1976-01-19 00:00:00  December 6 1921  Franklin D. Roosevelt   \n",
       "freq                      1                1                     12   \n",
       "first   1790-01-08 00:00:00              NaN                    NaN   \n",
       "last    2017-02-27 00:00:00              NaN                    NaN   \n",
       "\n",
       "                            Speech  \n",
       "count                          227  \n",
       "unique                           4  \n",
       "top     State of the Union Address  \n",
       "freq                           222  \n",
       "first                          NaN  \n",
       "last                           NaN  "
      ]
     },
     "execution_count": 158,
     "metadata": {},
     "output_type": "execute_result"
    }
   ],
   "source": [
    "# Describe the presidents data\n",
    "addresses_df.describe()"
   ]
  },
  {
   "cell_type": "markdown",
   "metadata": {
    "deletable": true,
    "editable": true
   },
   "source": [
    "Let's find the dates of the first and last address, and how much time has passed between those:"
   ]
  },
  {
   "cell_type": "code",
   "execution_count": 159,
   "metadata": {
    "collapsed": false,
    "deletable": true,
    "editable": true
   },
   "outputs": [
    {
     "name": "stdout",
     "output_type": "stream",
     "text": [
      "Date of first speech:  1790-01-08\n",
      "Date of last speech:  2017-02-27\n",
      "Time between these speeches:  relativedelta(years=+227, months=+1, days=+19)\n"
     ]
    }
   ],
   "source": [
    "from dateutil.relativedelta import relativedelta\n",
    "\n",
    "print('Date of first speech: ', addresses_df['Date'].min().date())\n",
    "print('Date of last speech: ', addresses_df['Date'].max().date())\n",
    "print('Time between these speeches: ', relativedelta(addresses_df['Date'].max().date(), \n",
    "                                                     addresses_df['Date'].min().date()))"
   ]
  },
  {
   "cell_type": "markdown",
   "metadata": {
    "deletable": true,
    "editable": true
   },
   "source": [
    "So there have been 227 years, 1 month, and 19 days between the oldest speech and the most recent one. \n",
    "\n",
    "Let's see during which months are the speeches most frequently delivered:"
   ]
  },
  {
   "cell_type": "code",
   "execution_count": 160,
   "metadata": {
    "collapsed": false,
    "deletable": true,
    "editable": true
   },
   "outputs": [
    {
     "name": "stdout",
     "output_type": "stream",
     "text": [
      "January: 75\n",
      "February: 12\n",
      "March: 0\n",
      "April: 0\n",
      "May: 0\n",
      "June: 0\n",
      "July: 0\n",
      "August: 0\n",
      "September: 2\n",
      "October: 3\n",
      "November: 11\n",
      "December: 124\n"
     ]
    }
   ],
   "source": [
    "# This is a count of the number of addresses delivered on any given month\n",
    "# addresses_df['Date'].iloc[0].day\n",
    "import calendar\n",
    "\n",
    "#initialize all counts to 0\n",
    "date_count_dict = {x:0 for x in range(1, 13)}\n",
    "\n",
    "for date in addresses_df['Date']: \n",
    "    date_count_dict[date.month] += 1\n",
    "    \n",
    "#intialize lists to be used in plotting\n",
    "month_names = []\n",
    "month_counts = []\n",
    "\n",
    "#print \n",
    "for month_num in range(1, 13):\n",
    "    name = calendar.month_name[month_num]\n",
    "    count = date_count_dict[month_num]\n",
    "    month_names.append(name)\n",
    "    month_counts.append(count)\n",
    "    print('{}: {}'.format(name, count))"
   ]
  },
  {
   "cell_type": "code",
   "execution_count": 161,
   "metadata": {
    "collapsed": false,
    "deletable": true,
    "editable": true
   },
   "outputs": [
    {
     "data": {
      "image/png": "[encoded data removed]",
      "text/plain": [
       "<matplotlib.figure.Figure at 0x114739e80>"
      ]
     },
     "metadata": {},
     "output_type": "display_data"
    }
   ],
   "source": [
    "# And this is a plot of these:\n",
    "\n",
    "plt.figure(figsize=(12, 6))\n",
    "\n",
    "y_pos = np.arange(len(month_names))\n",
    "\n",
    "plt.bar(y_pos, month_counts)\n",
    "plt.xticks(y_pos, month_names)\n",
    "plt.ylabel('Number of Speeches in this Month')\n",
    "plt.title('Number of Speeches in each month')\n",
    "plt.savefig('fig/addresses_month.png');\n",
    "plt.show(); "
   ]
  },
  {
   "cell_type": "markdown",
   "metadata": {
    "deletable": true,
    "editable": true
   },
   "source": [
    "Let's look at the distribution of differences between successive speeches:"
   ]
  },
  {
   "cell_type": "markdown",
   "metadata": {
    "deletable": true,
    "editable": true
   },
   "source": [
    "Where is the largest gap? We can ask the `ddiff` series for its location:"
   ]
  },
  {
   "cell_type": "code",
   "execution_count": 162,
   "metadata": {
    "collapsed": false,
    "deletable": true,
    "editable": true
   },
   "outputs": [
    {
     "data": {
      "text/plain": [
       "104"
      ]
     },
     "execution_count": 162,
     "metadata": {},
     "output_type": "execute_result"
    }
   ],
   "source": [
    "# this is the index of the largest gap:\n",
    "date_diff = addresses_df['Date'] - addresses_df['Date'].shift(1)\n",
    "ddiff = date_diff[1:]\n",
    "dgap = ddiff.argmax()\n",
    "dgap"
   ]
  },
  {
   "cell_type": "markdown",
   "metadata": {
    "deletable": true,
    "editable": true
   },
   "source": [
    "Let's look at the dates around this index:"
   ]
  },
  {
   "cell_type": "code",
   "execution_count": 163,
   "metadata": {
    "collapsed": false,
    "deletable": true,
    "editable": true
   },
   "outputs": [
    {
     "data": {
      "text/plain": [
       "102   1891-12-09\n",
       "103   1892-12-06\n",
       "104   1897-12-06\n",
       "105   1898-12-05\n",
       "Name: Date, dtype: datetime64[ns]"
      ]
     },
     "execution_count": 163,
     "metadata": {},
     "output_type": "execute_result"
    }
   ],
   "source": [
    "addresses_df['Date'][dgap-2 : dgap+2]"
   ]
  },
  {
   "cell_type": "markdown",
   "metadata": {
    "deletable": true,
    "editable": true
   },
   "source": [
    "As well as a plot of these times:"
   ]
  },
  {
   "cell_type": "code",
   "execution_count": 164,
   "metadata": {
    "collapsed": false,
    "deletable": true,
    "editable": true
   },
   "outputs": [
    {
     "name": "stderr",
     "output_type": "stream",
     "text": [
      "/Users/akhiljalan/anaconda/lib/python3.6/site-packages/matplotlib/figure.py:403: UserWarning: matplotlib is currently using a non-GUI backend, so cannot show the figure\n",
      "  \"matplotlib is currently using a non-GUI backend, \"\n"
     ]
    },
    {
     "data": {
      "image/png": "[encoded data removed]",
      "text/plain": [
       "<matplotlib.figure.Figure at 0x10793c048>"
      ]
     },
     "metadata": {},
     "output_type": "display_data"
    }
   ],
   "source": [
    "# A plot of the times, along with 'rug' markers on the x axis.\n",
    "fig = plt.figure()\n",
    "ax1 = plt.subplot()\n",
    "\n",
    "#convert the Pandas timestap objects to date objects\n",
    "date_objs = [addresses_df['Date'].iloc[i].date() for i in range(len(addresses_df['Date']))]\n",
    "\n",
    "#create a scatter plot of the dates against the number of elements in the Date series \n",
    "ax1.scatter(date_objs, np.arange(len(addresses_df['Date'])), s=30, c='r')\n",
    "sns.rugplot(date_objs, ax=ax1) #add the rugplot\n",
    "\n",
    "ax1.set_xlabel('Year')\n",
    "ax1.set_ylabel('Speech Number')\n",
    "ax1.set_title('Rug Plot of Speech Number against Year')\n",
    "fig.show();\n",
    "fig.savefig('fig/timeline.png');"
   ]
  },
  {
   "cell_type": "markdown",
   "metadata": {
    "deletable": true,
    "editable": true
   },
   "source": [
    "What happened at that gap?"
   ]
  },
  {
   "cell_type": "markdown",
   "metadata": {
    "deletable": true,
    "editable": true
   },
   "source": [
    "## Discussion of Gap\n",
    "\n",
    "The gap in the data occurs between 1892 and 1897. There are no speeches from 1893 to 1896, during the second term of Grover Cleveland. After some research, a [UCSB database](http://www.presidency.ucsb.edu/sou.php) confirms that Cleveland did in fact give four State of the Union speeches during his second term. The dataset is missing these speeches, and is thus incomplete. In particular, analysis of Grover Cleveland should be considered severely limited."
   ]
  },
  {
   "cell_type": "markdown",
   "metadata": {
    "deletable": true,
    "editable": true
   },
   "source": [
    "## Intermediate results\n",
    "\n",
    "Let's save some intermediate results for further analysis. This lets us work on subsequent notebooks  without rerunning this one.  We use the Pandas HDF5 support for efficient and type-safe serialization of data frames, and the python builtin [shelve](https://docs.python.org/3/library/shelve.html) module for simple Python variables.  We'll create for each notebook variable stores with the notebook number, one for dataframes (`df1.h5`, `df2.h5`, etc.) and one for python variables (`vars1.db`, `vars2.db`, etc.).  These will all go into the `results/` subdirectory."
   ]
  },
  {
   "cell_type": "code",
   "execution_count": 165,
   "metadata": {
    "collapsed": false,
    "deletable": true,
    "editable": true
   },
   "outputs": [],
   "source": [
    "addresses_df.to_hdf('results/addresses_df_1.h5', 'addresses_df')"
   ]
  }
 ],
 "metadata": {
  "kernelspec": {
   "display_name": "Python 3",
   "language": "python",
   "name": "python3"
  },
  "language_info": {
   "codemirror_mode": {
    "name": "ipython",
    "version": 3
   },
   "file_extension": ".py",
   "mimetype": "text/x-python",
   "name": "python",
   "nbconvert_exporter": "python",
   "pygments_lexer": "ipython3",
   "version": "3.6.0"
  }
 },
 "nbformat": 4,
 "nbformat_minor": 2
}
