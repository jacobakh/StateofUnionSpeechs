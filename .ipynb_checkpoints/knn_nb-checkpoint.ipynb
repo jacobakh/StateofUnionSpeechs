{
 "cells": [
  {
   "cell_type": "markdown",
   "metadata": {},
   "source": [
    "# An analysis of the State of the Union speeches - k nearest neighbors\n",
    "\n",
    "In this notebook, you should explore one question or idea of your own from this dataset.  Provide the code and computations here, and summarize your points in the [main](main.ipynb) notebook.\n",
    "\n",
    "# K-Nearest Neighbors \n",
    "\n",
    "In our previous notebooks, we've turned each speech in the dataset into a vector in $\\mathbb{R}^{n}$ where $n$ is the number of words across all of the speeches. Each speech vector $\\vec{v} \\in \\mathbb{R}^{n}$ represents a *count* of the number of occurrences of a particular word in that speech. For example, if George Washington's first state of the union used the word \"America\" 12 times, then the corresponding entry in that speech's vector would have a value of $12$. \n",
    "\n",
    "We want to use this data representation to train a classification algorithm known as **k-nearest neighbors**. We use a training set consisting of some of the Presidential speeches to train the algorithm. The vectors correspond to the data points, which the President who delivered the speech is the class label (so we have 45 class labels in total). Now, the algorithm has a set of \"speeches\" in $\\mathbb{R}^{n}$, each of which is labeled with a speaker. \n",
    "\n",
    "When predicting the speaker of a speech outside the training dataset, the algorithm looks the $k$ (say, 4$) \"nearest\" neighbors in this high-dimensional space and takes a vote amongst their labels. For example, the 4 nearest neighbors of a test data point might have labels George Washington, George Washington, George Washington, and Thomas Jefferson. The algorithm takes a plurality vote of the k-nearest neighbors, which in this case indicates that George Washington is most likely the person who delivered the speech. \n",
    "\n",
    "## Algorithmic Choices \n",
    "\n",
    "The k-nearest neighbors algorithm requires an integer choice of $k$, a notion of \"distance\" in the space being used (in our case, $\\mathbb{R}^{n}$), and a way of weighting the labels of the nearest neighbors. While we explore different values of $k$ in \"Grid Search\" below, we fix the weighting method and distance metric in our analysis. \n",
    "\n",
    "1. **Inverse-distance weighting**: A naive approach to k-nearest neighbors is to look at the class labels of the k-nearest neighbors and then take a simple vote of these labels. Inverse distance weighting gives more preference to \"closer\" neighbors, since these are more \n",
    "\n",
    "2. **Choice of distance metric**: Typically one might use the $\\ell_{2}$ norm $\\mathbb{R}^{n}$ as a measure of distance. But since our word-vectors measure a discrete probability distribution over $n$ words, we felt that the Jensen-Shannon Distance made more sense as a measure of difference between speeches. \n",
    "\n",
    "## Pre-Processing\n",
    "\n",
    "Here, we access the previous vectorized speech data, and pre-process by: \n",
    "\n",
    "1. Scaling the data so that the entries in each vector add up to $100$. This is necessary in a k-nearest neighbors algorithm because otherwise the distance from one vector to another is dominated by the components which happen to take on a larger range of values. \n",
    "\n",
    "2. Separating the data into a test and training set. The test set consists of 1 speech for each president, while the training set is all other speeches. "
   ]
  },
  {
   "cell_type": "code",
   "execution_count": 63,
   "metadata": {
    "collapsed": false
   },
   "outputs": [],
   "source": [
    "import pandas as pd \n",
    "import numpy as np\n",
    "from sklearn.preprocessing import MinMaxScaler\n",
    "\n",
    "#load the data \n",
    "\n",
    "#scale the data \n",
    "scaler = MinMaxScaler(feature_range=(0, 100))\n",
    "\n",
    "#separate into a training and test set, with labels and vector values.\n",
    "\n",
    "#generate some synthetic data \n",
    "#TODO REMOVE THIS\n",
    "labels = ['Jon', 'Bob', 'Mal', 'Bro', 'Sav', 'Man', 'Pig', 'Bear', 'Har', 'Rar']\n",
    "vecs = np.random.uniform(400, 10)\n",
    "all_labels = [labels[np.random.randint(len(labels))] for _ in range(400)]\n",
    "speech_data = pd.DataFrame(data=vecs, index=all_labels)\n",
    "\n",
    "\n",
    "#initialize training and test data to be empty copies of the speech dataframe\n",
    "#TODO REMOVE THIS\n",
    "training_data = pd.DataFrame(columns=speech_data.columns, index=speech_data.index)\n",
    "test_data = pd.DataFrame(columns=speech_data.columns, index=speech_data.index)\n",
    "\n",
    "all_label_values = set(speech_data.index.values)\n",
    "for name in all_label_values: \n",
    "    #select a random speech given by the president with NAME\n",
    "    speeches = speech_data.loc[name]\n",
    "    test_index = np.random.randint(len(speeches))\n",
    "    test_speech = speeches.iloc[test_index]\n",
    "    \n",
    "    #append the test_speech to test_data\n",
    "    test_data = test_data.append(test_speech)\n",
    "    \n",
    "    #append everything except the test_speech to the training data\n",
    "    training_data = training_data.append(speeches.iloc[:test_index, :])\n",
    "    training_data = training_data.append(speeches.iloc[test_index + 1: , :])\n",
    "\n",
    "#Drop the rows of NaN from both dataframes\n",
    "test_data = test_data.dropna()\n",
    "training_data = training_data.dropna()"
   ]
  },
  {
   "cell_type": "markdown",
   "metadata": {},
   "source": [
    "## Finding the best k\n",
    "\n",
    "The number of neighbors to consider in k-nearest neighbors (that is, the value of $k$) is an important hyperparameter for which different choices might yield varying levels of accuracy. We do a search over $k \\in \\{1, 2, 3, 4, 5, 6, 7, 8\\}$ to decide which $k$ best minimizes the test error. The error measure is simply the number of speeches that are correctly classified. \n",
    "\n",
    "First, we'll set up the algorithm."
   ]
  },
  {
   "cell_type": "code",
   "execution_count": 85,
   "metadata": {
    "collapsed": false
   },
   "outputs": [],
   "source": [
    "from sklearn.neighbors import KNeighborsClassifier\n",
    "from scipy.stats import entropy\n",
    "\n",
    "'''We will use J-S divergence as the metric in K-Nearest Neighbors'''\n",
    "def JSdiv(p, q):\n",
    "    \"\"\"Jensen-Shannon divergence.\n",
    "    \n",
    "    Compute the J-S divergence between two discrete probability distributions.\n",
    "    \n",
    "    Parameters\n",
    "    ----------\n",
    "    \n",
    "    p, q : array\n",
    "        Both p and q should be one-dimensional arrays that can be interpreted as discrete\n",
    "        probability distributions (i.e. sum(p) == 1; this condition is not checked).\n",
    "        \n",
    "    Returns\n",
    "    -------\n",
    "    float\n",
    "        The J-S divergence, computed using the scipy entropy function (with base 2) for\n",
    "        the Kullback-Leibler divergence.\n",
    "    \"\"\"\n",
    "    m = (p + q) / 2\n",
    "    return (entropy(p, m, base=2.0) + entropy(q, m, base=2.0)) / 2\n",
    "\n",
    "'''Returns the percentage of the predicted labels which match the actual labels, as \n",
    "well as a list of the misclassified labels.'''\n",
    "def accuracy_rate(predicted_labels, actual_labels): \n",
    "    assert len(predicted_labels) == len(actual_labels), 'Different number of predictions than actual cases.'\n",
    "    \n",
    "    num_labels = len(predicted_labels)\n",
    "    misclassified_presidents = []\n",
    "    \n",
    "    for i in range(len(predicted_labels)):\n",
    "        if predicted_labels[i] != actual_labels[i]: \n",
    "            misclassified_presidents.append(actual_labels[i])\n",
    "\n",
    "    accuracy_rate = (num_labels - len(misclassified_presidents))/num_labels\n",
    "    return accuracy_rate, misclassified_presidents\n",
    "\n",
    "'''Trains a k-nearest neighbor classifier using J-S divergence as a metric and weighting by \n",
    "inverse distance. Returns the rate of correct speaker classification - that is, the rate at which\n",
    "the predicted speaker of a speech in the test dataset is the actual speaker.'''\n",
    "def knn_train_and_predict(k, train_speeches, train_labels, test_speeches, test_labels): \n",
    "    #instantiate an instance of the model \n",
    "    model = KNeighborsClassifier(n_neighbors=k, weights='distance', metric=JSdiv)\n",
    "    \n",
    "    #fit the model on the training data   \n",
    "    model.fit(train_speeches, train_labels)\n",
    "    \n",
    "    #predict on the test data\n",
    "    prediction = model.predict(test_speeches)\n",
    "    \n",
    "    #compute accuracy rate \n",
    "    test_accuracy, misclassified_presidents = accuracy_rate(prediction, test_labels)\n",
    "    return test_accuracy"
   ]
  },
  {
   "cell_type": "markdown",
   "metadata": {},
   "source": [
    "Next, we'll look at the accuracy for different $k$."
   ]
  },
  {
   "cell_type": "code",
   "execution_count": 101,
   "metadata": {
    "collapsed": false
   },
   "outputs": [
    {
     "name": "stdout",
     "output_type": "stream",
     "text": [
      "Accuracy for k=1 was 0.1\n",
      "Accuracy for k=2 was 0.1\n",
      "Accuracy for k=3 was 0.1\n",
      "Accuracy for k=4 was 0.1\n",
      "Accuracy for k=5 was 0.1\n",
      "Accuracy for k=6 was 0.1\n",
      "Accuracy for k=7 was 0.1\n",
      "Accuracy for k=8 was 0.1\n"
     ]
    }
   ],
   "source": [
    "k_accuracy = {}\n",
    "for k in range(1, 9): \n",
    "    test_accuracy = knn_train_and_predict(k, training_data, training_data.index.values, test_data, test_data.index.values)\n",
    "    print('Accuracy for k={} was {}'.format(k, test_accuracy))\n",
    "    k_accuracy[k] = test_accuracy"
   ]
  },
  {
   "cell_type": "markdown",
   "metadata": {},
   "source": [
    "Let's create a plot of these."
   ]
  },
  {
   "cell_type": "code",
   "execution_count": 94,
   "metadata": {
    "collapsed": false
   },
   "outputs": [
    {
     "data": {
      "image/png": "[encoded data removed]",
      "text/plain": [
       "<matplotlib.figure.Figure at 0x11b2cfda0>"
      ]
     },
     "metadata": {},
     "output_type": "display_data"
    }
   ],
   "source": [
    "import matplotlib.pyplot as plt \n",
    "%matplotlib inline\n",
    "\n",
    "plt.figure(figsize=(12, 8))\n",
    "plt.plot([k for k in range(1, 9)], [k_accuracy[k] for k in range(1, 9)])\n",
    "plt.title('Accuracy Rate of k-nearest neighbors classifier', fontsize=24)\n",
    "plt.ylabel('Accuracy', fontsize=20)\n",
    "plt.xlabel('Value of k', fontsize=20)\n",
    "plt.savefig('fig/knn_hyperparam.png')"
   ]
  },
  {
   "cell_type": "markdown",
   "metadata": {},
   "source": [
    "## Explanations for Misclassification \n",
    "\n",
    "The assumption in our model before was that Presidents tend to give similar speeches over time, and so the vectors corresponding to their speeches were closer together in $\\mathbb{R}^{n}$ than the vectors corresponding to the speeches of another President. Therefore, one reason for misclassification might be that a President gave *substantially different* speeches over time, and so the nearest neighbors of a test point are not actually the same as the President. \n",
    "\n",
    "For example, George W. Bush might have given very different speeches before and after 9/11. Therefore, if we train on Bush's post-9/11 speeches, then the classifier wouldn't predict his pre 9/11 speeches very well, and might classify them as some other president. \n",
    "\n",
    "One way to measure this phenomenon is analyzing the **variance across speeches** for each president. We hypothesize that the presidents who are misclassified are likely the ones whose speeches have a high variance. \n",
    "\n",
    "\n",
    "### Finding the misclassified Presidents \n",
    "\n",
    "We've found that the best $k$ is $k = 5$ (TODO TODO TODO TODO). Now, let's look at which Presidents get misclassified by the k-nearest neighors algorithm, even with the best k."
   ]
  },
  {
   "cell_type": "code",
   "execution_count": 99,
   "metadata": {
    "collapsed": false
   },
   "outputs": [
    {
     "name": "stdout",
     "output_type": "stream",
     "text": [
      "['Mal', 'Bro', 'Man', 'Har', 'Sav', 'Rar', 'Bob', 'Pig', 'Jon']\n"
     ]
    }
   ],
   "source": [
    "#    test_accuracy, misclassified_presidents = knn_train_and_predict(k, training_data, \n",
    "#training_data.index.values, test_data, test_data.index.values)\n",
    "\n",
    "best_model = KNeighborsClassifier(n_neighbors=5, weights='distance', metric=JSdiv)\n",
    "    \n",
    "#fit the model on the training data   \n",
    "best_model.fit(training_data, training_data.index.values)\n",
    "\n",
    "#predict on the test data\n",
    "prediction = best_model.predict(test_data)\n",
    "\n",
    "#compute accuracy rate \n",
    "test_accuracy, misclassified_presidents = accuracy_rate(prediction, test_data.index.values)\n",
    "print(misclassified_presidents)"
   ]
  },
  {
   "cell_type": "markdown",
   "metadata": {},
   "source": [
    "### Finding Variance Across Speeches\n",
    "\n",
    "Let's figure out what the variance of each President's speeches is. A natural measure of the variance of speeches is the **generalized Jensen-Shannon divergence** [source](https://en.wikipedia.org/wiki/Jensen%E2%80%93Shannon_divergence). \n",
    "\n",
    "Suppose that a president gave $q$ speeches $v_1, ..., v_q \\in \\mathbb{R}^{n}$. If $H$ is the Shannon entropy function, and $\\pi_1, ..., \\pi_q$ are weights such that $\\sum\\limits_{i = 1}^{q} \\pi_{i} = 1$, then the generalized JS divergence of $v_1, ..., v_q$ is simply \n",
    "\n",
    "$$H(\\sum\\limits_{i = 1}^{q} \\pi_{i} v_{i}) - \\sum\\limits_{i = 1}^{q} \\pi_{i} H(v_{i})$$"
   ]
  },
  {
   "cell_type": "code",
   "execution_count": 148,
   "metadata": {
    "collapsed": true
   },
   "outputs": [],
   "source": [
    "def generalized_JS_divergence(speeches_df): \n",
    "    avg_speech = np.mean(speeches_df, axis=0)\n",
    "    entropy_of_average = entropy(avg_speech)\n",
    "    speech_entropies = speeches_df.apply(entropy, axis=1)\n",
    "    average_of_entropy = np.mean(speech_entropies)\n",
    "    return entropy_of_average - average_of_entropy"
   ]
  },
  {
   "cell_type": "code",
   "execution_count": 150,
   "metadata": {
    "collapsed": false
   },
   "outputs": [
    {
     "data": {
      "text/plain": [
       "0.031606004360585249"
      ]
     },
     "execution_count": 150,
     "metadata": {},
     "output_type": "execute_result"
    }
   ],
   "source": [
    "\n",
    "js_test_speeches = training_data.loc['Bear'] + 4\n",
    "scale_to_sum_one = lambda vec: vec/sum(vec)\n",
    "js_test_speeches = js_test_speeches.apply(scale_to_sum_one, axis=1)\n",
    "generalized_JS_divergence(js_test_speeches)\n",
    "\n"
   ]
  }
 ],
 "metadata": {
  "kernelspec": {
   "display_name": "Python 3",
   "language": "python",
   "name": "python3"
  },
  "language_info": {
   "codemirror_mode": {
    "name": "ipython",
    "version": 3
   },
   "file_extension": ".py",
   "mimetype": "text/x-python",
   "name": "python",
   "nbconvert_exporter": "python",
   "pygments_lexer": "ipython3",
   "version": "3.6.0"
  }
 },
 "nbformat": 4,
 "nbformat_minor": 2
}
