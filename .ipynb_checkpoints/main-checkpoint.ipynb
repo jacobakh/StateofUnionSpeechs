{
 "cells": [
  {
   "cell_type": "markdown",
   "metadata": {},
   "source": [
    "# An analysis of the State of the Union speeches\n",
    "\n",
    "**Akhil Jalan, Yakub Akhmerov, Ye Zhong**"
   ]
  },
  {
   "cell_type": "markdown",
   "metadata": {},
   "source": [
    "## Abstract\n",
    "\n",
    ".. brief summary of your conclusions here"
   ]
  },
  {
   "cell_type": "markdown",
   "metadata": {},
   "source": [
    "### Notebook 1\n",
    "\n",
    "You will start with one text file containing all the speeches and some data about the speeches. You will need to first process this text file and create some initial datastructures to use in the next step of the analysis. For instance, you will first need to extract the individual speeches.\n",
    "\n",
    "1. We manipulated and clean the data, creating some dataframes to show monthly disribution of presidential speechesand rug plot. \n",
    "\n",
    "```python\n",
    "print addresses_df.describe(\n",
    "\n",
    "```\n",
    "\n",
    "1. Create a data frame of presidents and addresses/dates. Donald Trump is the 45th president, how many are there in the data? Why? - Donald Trump only gave one speech because he got elected in 2016 and he is also the current President of United States. \n",
    "\n",
    "1. Time between oldest and newest speech. How many years have passed? - Date of first speech (George Washington):  1790-01-08. Date of last speech (Donald Trump):  2017-02-27 Thus 227 years have passed between the oldest and the newest speech.\n",
    "\n",
    "1. Summarize the distribution of speeches and make a rugplot of the speeches timeline. - There are 227 speeches from 42 different Presidents in total. Among them, Franklin d. Roosevelt gave the most speeches which was 12.\n",
    "\n",
    "1. Discuss gaps in data: are there any? If so, when and why? - \n",
    "\n",
    "1. Remember to save key variables that you'll need later on for the next steps (example code provided for the first notebook, you'll need to do the same in the others). - \n"
   ]
  },
  {
   "cell_type": "markdown",
   "metadata": {},
   "source": [
    "### Notebook 2\n",
    "\n",
    "Here you will do some text processing with NLTK to compute aggregate text statistics of the speeches as well as visualize some of their properties.\n",
    "\n",
    "1. Start with addresses DataFrame and add new columns for text analysis.\n",
    "1. You'll need to do proper stopword removal and stemming.\n",
    "1. Explore some of the relations between the properties of the speeches, their authors, and the passage of time, provide a novel visualization of the relevant information.\n",
    "\n"
   ]
  },
  {
   "cell_type": "markdown",
   "metadata": {},
   "source": [
    "### Notebook  3\n",
    "\n",
    "Next you will create a term-document matrix. A term-document matrix is a standard format for representing a collection of documents. Each row of the term-document matrix corresponds to a term (or word) and each column corresponds to a different document (in this case speech). Each entry of the matrix is an integer that specifies the number of times the corresponding word occurred in the corresponding speech. Each column of the resulting matrix is a word vector representing the speech in word frequency space.\n",
    "\n",
    "\n",
    "1. Create word_vector function.\n",
    "1. Creation of term-document matrix.\n",
    "1. Compute sparsity of the TD matrix.\n"
   ]
  },
  {
   "cell_type": "markdown",
   "metadata": {},
   "source": [
    "### Notebook 4\n",
    "\n",
    "Finally, you will compute a speech-by-speech matrix containing the distances between every pair of speeches in word frequency space. Using the speech-by-speech distance matrix, you will create visualizations of the presidents using multi-dimensional scaling from [scikit-learn](http://scikit-learn.org/stable/modules/generated/sklearn.manifold.MDS.html).\n",
    "\n",
    "1. Collapse TD matrix int `pres_mat` that groups by president.\n",
    "1. Turn `wmat` and `pres_mat` into probability density matrices.\n",
    "1. Compute the pair-wise Jensen-Shannon divergence matrices at the speech- and president- levels (a function `JSdiv` is provided for you).\n",
    "1. Present MDS plots both grouping the data by president and at the level of individual speeches.  Label the individual points with the president's last name when grouping by presidents, and with their initials when showing all individual speeches.\n",
    "1. Compare the MDS plots that you get if you use the raw frequency data vs. if you do it with a the Jensen-Shannon divergences.\n"
   ]
  },
  {
   "cell_type": "markdown",
   "metadata": {
    "collapsed": true
   },
   "source": [
    "### Notebook 5\n",
    "\n",
    "Free-form: here you will add one bit of original analysis about some feature of the data that you find interesting."
   ]
  },
  {
   "cell_type": "code",
   "execution_count": null,
   "metadata": {
    "collapsed": true
   },
   "outputs": [],
   "source": []
  }
 ],
 "metadata": {
  "kernelspec": {
   "display_name": "Python 3",
   "language": "python",
   "name": "python3"
  },
  "language_info": {
   "codemirror_mode": {
    "name": "ipython",
    "version": 3
   },
   "file_extension": ".py",
   "mimetype": "text/x-python",
   "name": "python",
   "nbconvert_exporter": "python",
   "pygments_lexer": "ipython3",
   "version": "3.6.1"
  }
 },
 "nbformat": 4,
 "nbformat_minor": 2
}
