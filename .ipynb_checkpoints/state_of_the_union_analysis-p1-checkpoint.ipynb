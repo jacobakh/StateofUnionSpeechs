{
 "cells": [
  {
   "cell_type": "markdown",
   "metadata": {},
   "source": [
    "# An analysis of the State of the Union speeches - Part 1"
   ]
  },
  {
   "cell_type": "code",
   "execution_count": 1,
   "metadata": {},
   "outputs": [
    {
     "name": "stderr",
     "output_type": "stream",
     "text": [
      "/Users/Kenz/anaconda/lib/python3.6/site-packages/statsmodels/compat/pandas.py:56: FutureWarning: The pandas.core.datetools module is deprecated and will be removed in a future version. Please use the pandas.tseries module instead.\n",
      "  from pandas.core import datetools\n",
      "/Users/Kenz/anaconda/lib/python3.6/site-packages/matplotlib/__init__.py:913: UserWarning: axes.color_cycle is deprecated and replaced with axes.prop_cycle; please use the latter.\n",
      "  warnings.warn(self.msg_depr % (key, alt_key))\n"
     ]
    }
   ],
   "source": [
    "%matplotlib inline\n",
    "import matplotlib.pyplot as plt\n",
    "import numpy as np\n",
    "import pandas as pd\n",
    "import seaborn as sns\n",
    "import datetime\n",
    "import shelve\n",
    "import re #for string splitting\n",
    "import csv #for writing to CSV file\n",
    "\n",
    "plt.style.use('seaborn-dark')\n",
    "plt.rcParams['figure.figsize'] = (10, 6)"
   ]
  },
  {
   "cell_type": "markdown",
   "metadata": {},
   "source": [
    "This is a \"hollowed out\" version of my complete analysis, leaving you a few results to check your progress:"
   ]
  },
  {
   "cell_type": "code",
   "execution_count": 2,
   "metadata": {
    "collapsed": true
   },
   "outputs": [],
   "source": [
    "speech_metadata = pd.DataFrame(columns = ['President', 'Speech', 'Date', 'Date (String)'])\n",
    "\n",
    "def read_speech_meta(string): \n",
    "    vals = string.split(',')\n",
    "    d = {}\n",
    "    d['President'] = vals[0].strip()\n",
    "    d['Speech'] = vals[1].strip()\n",
    "    date_string = (vals[2] + vals[3]).strip()\n",
    "    d['Date'] = datetime.datetime.strptime(date_string, '%B %d %Y')\n",
    "    d['Date (String)'] = date_string\n",
    "    return d\n",
    "\n",
    "'''Custom function designed to read a list of strings that contain \n",
    "the speech name, speaker, and date corresponding to a Presidential speech.\n",
    "Example: ['State of the Union Address', 'George Washington', 'January 8, 1790']'''\n",
    "\n",
    "def read_speech_meta_list(str_list): \n",
    "    d = {}\n",
    "    d['President'] = str_list[1].strip()\n",
    "    d['Speech'] = str_list[0].strip()\n",
    "    date_string = str_list[2].strip()\n",
    "    d['Date'] = datetime.datetime.strptime(date_string, '%B %d, %Y')\n",
    "    d['Date (String)'] = date_string\n",
    "    return d\n",
    "\n",
    "SEPARATORS = '[\\'\\\":\\n\\t,-.()%$;?!@#$^&_+=<>/\\{}\\[\\] ]'\n",
    "\n",
    "'''Removes all occurrences of the empty string from a list of strings'''\n",
    "def remove_empty_strings(list_of_strings): \n",
    "    return list(filter(lambda elem: elem != '', list_of_strings)) \n",
    "\n",
    "'''Splits lines according to the SEPARATORS above and the python regex package.\n",
    "Returns a list of all the words in the speech, with repeats.'''\n",
    "def split_text_lines(list_of_lines): \n",
    "    all_words_with_repeats = []\n",
    "    for line in list_of_lines: \n",
    "        split_line = remove_empty_strings(re.split(SEPARATORS, line))\n",
    "        all_words_with_repeats += split_line\n",
    "    return all_words_with_repeats\n",
    "\n",
    "'''Returns a dictionary whose keys are POSSIBLE_WORDS. The value at each key \n",
    "is an integer which is the number of occurrences of that word in WORD_OCURRENCE_LIST'''\n",
    "def word_count_dict(possible_words, word_occurrence_list): \n",
    "    count_dict = dict.fromkeys(possible_words, 0)\n",
    "    for word in word_occurrence_list: \n",
    "        count_dict[word] += 1 \n",
    "    return count_dict"
   ]
  },
  {
   "cell_type": "code",
   "execution_count": 11,
   "metadata": {},
   "outputs": [],
   "source": [
    "'''In this cell, we read and organize the data into a CSV file. You can \n",
    "run this cell again if you like, but there is no need.'''\n",
    "\n",
    "np.random.seed(777)\n",
    "\n",
    "all_unique_words = set()\n",
    "    \n",
    "with open('data/stateoftheunion1790-2017.txt', 'r') as g:\n",
    "    '''First, we ingest the metadata.'''\n",
    "    f = g.read().split('***') #read only first 10,000 characters of the file to ingest metadata\n",
    "    meta = f[0].split('\\n') #f[0] is the metadata entry. split by line. \n",
    "    contents_index = meta.index('CONTENTS') #get the index of the line that indicates the beginning of contents.\n",
    "\n",
    "    #remove the first few lines, and empty lines\n",
    "    meta = remove_empty_strings(meta[contents_index + 2:])\n",
    "    \n",
    "    #each line has details of a speech. Ingest into the dataframe\n",
    "    for line in meta: \n",
    "        new_series = pd.Series(read_speech_meta(line))\n",
    "        speech_metadata = speech_metadata.append(new_series, ignore_index=True)\n",
    "    \n",
    "\n",
    "    '''We make a first pass through the speeches to create a set of all the unique words used.'''\n",
    "    for i in range(1, len(f)): \n",
    "        current_speech = f[i].lower()\n",
    "        speech_lines = remove_empty_strings(current_speech.split('\\n'))\n",
    "        \n",
    "        meta_lines = speech_lines[:3]\n",
    "        content_lines = speech_lines[3:]\n",
    "        \n",
    "        all_speech_words = split_text_lines(content_lines) #this is a list with repeats\n",
    "        all_unique_words.update(set(all_speech_words)) #cast list to a set and update all_unique_words\n",
    "    \n",
    "    '''In our second pass, we write all of the word counts to a CSV file.'''\n",
    "    with open('data/speech_word_counts.csv', 'w') as csv_file:\n",
    "        csv_fieldnames = ['President', 'Speech', 'Date', 'Date (String)']\n",
    "        csv_fieldnames += list(all_unique_words)\n",
    "        writer = csv.DictWriter(csv_file, fieldnames=csv_fieldnames)\n",
    "        writer.writeheader()\n",
    "        for j in range(1, len(f)): \n",
    "            current_speech = f[j].lower()\n",
    "            speech_lines = remove_empty_strings(current_speech.split('\\n'))\n",
    "            \n",
    "            meta_lines = speech_lines[:3]\n",
    "            meta_dict = read_speech_meta_list(meta_lines)\n",
    "            \n",
    "            content_lines = speech_lines[3:]\n",
    "            all_speech_words = split_text_lines(content_lines) #this is a list with repeats\n",
    "            content_dict = word_count_dict(all_unique_words, all_speech_words)\n",
    "            \n",
    "            csv_row_dict = {**meta_dict, **content_dict}\n",
    "            writer.writerow(csv_row_dict)"
   ]
  },
  {
   "cell_type": "code",
   "execution_count": 30,
   "metadata": {},
   "outputs": [
    {
     "name": "stdout",
     "output_type": "stream",
     "text": [
      "              President                                            Speech  \\\n",
      "0     george washington                        state of the union address   \n",
      "1     george washington                        state of the union address   \n",
      "2     george washington                        state of the union address   \n",
      "3     george washington                        state of the union address   \n",
      "4     george washington                        state of the union address   \n",
      "5     george washington                        state of the union address   \n",
      "6     george washington                        state of the union address   \n",
      "7     george washington                        state of the union address   \n",
      "8            john adams                        state of the union address   \n",
      "9            john adams                        state of the union address   \n",
      "10           john adams                        state of the union address   \n",
      "11           john adams                        state of the union address   \n",
      "12     thomas jefferson                        state of the union address   \n",
      "13     thomas jefferson                        state of the union address   \n",
      "14     thomas jefferson                        state of the union address   \n",
      "15     thomas jefferson                        state of the union address   \n",
      "16     thomas jefferson                        state of the union address   \n",
      "17     thomas jefferson                        state of the union address   \n",
      "18     thomas jefferson                        state of the union address   \n",
      "19     thomas jefferson                        state of the union address   \n",
      "20        james madison                        state of the union address   \n",
      "21        james madison                        state of the union address   \n",
      "22        james madison                        state of the union address   \n",
      "23        james madison                        state of the union address   \n",
      "24        james madison                        state of the union address   \n",
      "25        james madison                        state of the union address   \n",
      "26        james madison                        state of the union address   \n",
      "27        james madison                        state of the union address   \n",
      "28         james monroe                        state of the union address   \n",
      "29         james monroe                        state of the union address   \n",
      "..                  ...                                               ...   \n",
      "197    george h.w. bush                   address on administration goals   \n",
      "198    george h.w. bush                        state of the union address   \n",
      "199    george h.w. bush                        state of the union address   \n",
      "200    george h.w. bush                        state of the union address   \n",
      "201  william j. clinton                   address on administration goals   \n",
      "202  william j. clinton                        state of the union address   \n",
      "203  william j. clinton                        state of the union address   \n",
      "204  william j. clinton                        state of the union address   \n",
      "205  william j. clinton                        state of the union address   \n",
      "206  william j. clinton                        state of the union address   \n",
      "207  william j. clinton                        state of the union address   \n",
      "208  william j. clinton                        state of the union address   \n",
      "209      george w. bush  address on administration goals (budget message)   \n",
      "210      george w. bush                        state of the union address   \n",
      "211      george w. bush                        state of the union address   \n",
      "212      george w. bush                        state of the union address   \n",
      "213      george w. bush                        state of the union address   \n",
      "214      george w. bush                        state of the union address   \n",
      "215      george w. bush                        state of the union address   \n",
      "216      george w. bush                        state of the union address   \n",
      "217      george w. bush                        state of the union address   \n",
      "218        barack obama        address before a joint session of congress   \n",
      "219        barack obama                        state of the union address   \n",
      "220        barack obama                        state of the union address   \n",
      "221        barack obama                        state of the union address   \n",
      "222        barack obama                        state of the union address   \n",
      "223        barack obama                        state of the union address   \n",
      "224        barack obama                        state of the union address   \n",
      "225        barack obama                        state of the union address   \n",
      "226     donald j. trump                        state of the union address   \n",
      "\n",
      "                    Date       Date (String)  lenin  doctor  297  humblest  \\\n",
      "0    1790-01-08 00:00:00     january 8, 1790      0       0    0         0   \n",
      "1    1790-12-08 00:00:00    december 8, 1790      0       0    0         0   \n",
      "2    1791-10-25 00:00:00    october 25, 1791      0       0    0         0   \n",
      "3    1792-11-06 00:00:00    november 6, 1792      0       0    0         0   \n",
      "4    1793-12-03 00:00:00    december 3, 1793      0       0    0         0   \n",
      "5    1794-11-19 00:00:00   november 19, 1794      0       0    0         0   \n",
      "6    1795-12-08 00:00:00    december 8, 1795      0       0    0         0   \n",
      "7    1796-12-07 00:00:00    december 7, 1796      0       0    0         0   \n",
      "8    1797-11-22 00:00:00   november 22, 1797      0       0    0         0   \n",
      "9    1798-12-08 00:00:00    december 8, 1798      0       0    0         0   \n",
      "10   1799-12-03 00:00:00    december 3, 1799      0       0    0         0   \n",
      "11   1800-11-11 00:00:00   november 11, 1800      0       0    0         0   \n",
      "12   1801-12-08 00:00:00    december 8, 1801      0       0    0         0   \n",
      "13   1802-12-15 00:00:00   december 15, 1802      0       0    0         0   \n",
      "14   1803-10-17 00:00:00    october 17, 1803      0       0    0         0   \n",
      "15   1804-11-08 00:00:00    november 8, 1804      0       0    0         0   \n",
      "16   1805-12-03 00:00:00    december 3, 1805      0       0    0         0   \n",
      "17   1806-12-02 00:00:00    december 2, 1806      0       0    0         0   \n",
      "18   1807-10-27 00:00:00    october 27, 1807      0       0    0         0   \n",
      "19   1808-11-08 00:00:00    november 8, 1808      0       0    0         0   \n",
      "20   1809-11-29 00:00:00   november 29, 1809      0       0    0         0   \n",
      "21   1810-12-05 00:00:00    december 5, 1810      0       0    0         0   \n",
      "22   1811-11-05 00:00:00    november 5, 1811      0       0    0         0   \n",
      "23   1812-11-04 00:00:00    november 4, 1812      0       0    0         0   \n",
      "24   1813-12-07 00:00:00    december 7, 1813      0       0    0         0   \n",
      "25   1814-09-20 00:00:00  september 20, 1814      0       0    0         0   \n",
      "26   1815-12-05 00:00:00    december 5, 1815      0       0    0         0   \n",
      "27   1816-12-03 00:00:00    december 3, 1816      0       0    0         0   \n",
      "28   1817-12-12 00:00:00   december 12, 1817      0       0    0         0   \n",
      "29   1818-11-16 00:00:00   november 16, 1818      0       0    0         0   \n",
      "..                   ...                 ...    ...     ...  ...       ...   \n",
      "197  1989-02-09 00:00:00    february 9, 1989      0       0    0         0   \n",
      "198  1990-01-31 00:00:00    january 31, 1990      0       0    0         0   \n",
      "199  1991-01-29 00:00:00    january 29, 1991      0       0    0         0   \n",
      "200  1992-01-28 00:00:00    january 28, 1992      0       1    0         0   \n",
      "201  1993-02-17 00:00:00   february 17, 1993      0       1    0         0   \n",
      "202  1994-01-25 00:00:00    january 25, 1994      0       2    0         0   \n",
      "203  1995-01-24 00:00:00    january 24, 1995      0       0    0         0   \n",
      "204  1996-01-23 00:00:00    january 23, 1996      0       0    0         0   \n",
      "205  1997-02-04 00:00:00    february 4, 1997      0       1    0         0   \n",
      "206  1998-01-27 00:00:00    january 27, 1998      0       2    0         0   \n",
      "207  1999-01-19 00:00:00    january 19, 1999      0       1    0         0   \n",
      "208  2000-01-27 00:00:00    january 27, 2000      0       0    0         0   \n",
      "209  2001-02-27 00:00:00   february 27, 2001      0       1    0         0   \n",
      "210  2001-09-20 00:00:00  september 20, 2001      0       0    0         0   \n",
      "211  2002-01-29 00:00:00    january 29, 2002      0       0    0         0   \n",
      "212  2003-01-28 00:00:00    january 28, 2003      0       1    0         0   \n",
      "213  2004-01-20 00:00:00    january 20, 2004      0       1    0         0   \n",
      "214  2005-02-02 00:00:00    february 2, 2005      0       0    0         0   \n",
      "215  2006-01-31 00:00:00    january 31, 2006      0       1    0         0   \n",
      "216  2007-01-23 00:00:00    january 23, 2007      0       0    0         0   \n",
      "217  2008-01-29 00:00:00    january 29, 2008      0       1    0         0   \n",
      "218  2009-02-24 00:00:00   february 24, 2009      0       0    0         0   \n",
      "219  2010-01-27 00:00:00    january 27, 2010      0       1    0         0   \n",
      "220  2011-01-25 00:00:00    january 25, 2011      0       1    0         0   \n",
      "221  2012-01-24 00:00:00    january 24, 2012      0       0    0         0   \n",
      "222  2013-02-12 00:00:00   february 12, 2013      0       0    0         0   \n",
      "223  2014-01-28 00:00:00    january 28, 2014      0       1    0         0   \n",
      "224  2015-01-20 00:00:00    january 20, 2015      0       0    0         0   \n",
      "225  2016-01-12 00:00:00    january 12, 2016      0       0    0         0   \n",
      "226  2017-02-27 00:00:00   february 27, 2017      0       1    0         0   \n",
      "\n",
      "     penalized  introduction    ...     sandburg  inviolate  supposable  \\\n",
      "0            0             1    ...            0          0           0   \n",
      "1            0             0    ...            0          0           0   \n",
      "2            0             0    ...            0          0           0   \n",
      "3            0             0    ...            0          0           0   \n",
      "4            0             0    ...            0          0           0   \n",
      "5            0             0    ...            0          0           0   \n",
      "6            0             0    ...            0          0           0   \n",
      "7            0             0    ...            0          0           0   \n",
      "8            0             0    ...            0          0           0   \n",
      "9            0             0    ...            0          0           0   \n",
      "10           0             0    ...            0          0           0   \n",
      "11           0             0    ...            0          0           0   \n",
      "12           0             0    ...            0          0           0   \n",
      "13           0             0    ...            0          0           0   \n",
      "14           0             0    ...            0          0           0   \n",
      "15           0             0    ...            0          0           0   \n",
      "16           0             0    ...            0          0           0   \n",
      "17           0             0    ...            0          0           0   \n",
      "18           0             0    ...            0          0           0   \n",
      "19           0             0    ...            0          0           0   \n",
      "20           0             0    ...            0          0           0   \n",
      "21           0             0    ...            0          0           0   \n",
      "22           0             0    ...            0          0           0   \n",
      "23           0             0    ...            0          0           0   \n",
      "24           0             0    ...            0          0           0   \n",
      "25           0             0    ...            0          0           0   \n",
      "26           0             0    ...            0          1           0   \n",
      "27           0             1    ...            0          0           0   \n",
      "28           0             1    ...            0          0           0   \n",
      "29           0             1    ...            0          0           0   \n",
      "..         ...           ...    ...          ...        ...         ...   \n",
      "197          0             0    ...            0          0           0   \n",
      "198          0             0    ...            0          0           0   \n",
      "199          0             0    ...            0          0           0   \n",
      "200          0             0    ...            0          0           0   \n",
      "201          0             0    ...            0          0           0   \n",
      "202          0             0    ...            0          0           0   \n",
      "203          0             0    ...            0          0           0   \n",
      "204          0             0    ...            0          0           0   \n",
      "205          0             0    ...            0          0           0   \n",
      "206          0             0    ...            0          0           0   \n",
      "207          0             0    ...            0          0           0   \n",
      "208          0             0    ...            0          0           0   \n",
      "209          0             0    ...            0          0           0   \n",
      "210          0             0    ...            0          0           0   \n",
      "211          0             0    ...            0          0           0   \n",
      "212          0             0    ...            0          0           0   \n",
      "213          0             0    ...            0          0           0   \n",
      "214          0             0    ...            0          0           0   \n",
      "215          0             0    ...            0          0           0   \n",
      "216          0             0    ...            0          0           0   \n",
      "217          0             0    ...            0          0           0   \n",
      "218          0             0    ...            0          0           0   \n",
      "219          0             0    ...            0          0           0   \n",
      "220          0             0    ...            0          0           0   \n",
      "221          0             0    ...            0          0           0   \n",
      "222          0             0    ...            0          0           0   \n",
      "223          0             0    ...            0          0           0   \n",
      "224          0             0    ...            0          0           0   \n",
      "225          0             0    ...            0          0           0   \n",
      "226          0             0    ...            0          0           0   \n",
      "\n",
      "     unwittingly  aristocracy  cheaters  managerial  republicans—democrats  \\\n",
      "0              0            0         0           0                      0   \n",
      "1              0            0         0           0                      0   \n",
      "2              0            0         0           0                      0   \n",
      "3              0            0         0           0                      0   \n",
      "4              0            0         0           0                      0   \n",
      "5              0            0         0           0                      0   \n",
      "6              0            0         0           0                      0   \n",
      "7              0            0         0           0                      0   \n",
      "8              0            0         0           0                      0   \n",
      "9              0            0         0           0                      0   \n",
      "10             0            0         0           0                      0   \n",
      "11             0            0         0           0                      0   \n",
      "12             0            0         0           0                      0   \n",
      "13             0            0         0           0                      0   \n",
      "14             0            0         0           0                      0   \n",
      "15             0            0         0           0                      0   \n",
      "16             0            0         0           0                      0   \n",
      "17             0            0         0           0                      0   \n",
      "18             0            0         0           0                      0   \n",
      "19             0            0         0           0                      0   \n",
      "20             0            0         0           0                      0   \n",
      "21             0            0         0           0                      0   \n",
      "22             0            0         0           0                      0   \n",
      "23             0            0         0           0                      0   \n",
      "24             0            0         0           0                      0   \n",
      "25             0            0         0           0                      0   \n",
      "26             0            0         0           0                      0   \n",
      "27             0            0         0           0                      0   \n",
      "28             0            0         0           0                      0   \n",
      "29             0            0         0           0                      0   \n",
      "..           ...          ...       ...         ...                    ...   \n",
      "197            0            0         0           0                      0   \n",
      "198            0            0         0           0                      0   \n",
      "199            0            0         0           0                      0   \n",
      "200            0            0         0           0                      0   \n",
      "201            0            0         0           0                      0   \n",
      "202            0            0         0           0                      0   \n",
      "203            0            0         0           0                      0   \n",
      "204            0            0         0           0                      0   \n",
      "205            0            0         0           0                      0   \n",
      "206            0            0         0           0                      0   \n",
      "207            0            0         0           0                      0   \n",
      "208            0            0         0           0                      0   \n",
      "209            0            0         0           0                      0   \n",
      "210            0            0         0           0                      0   \n",
      "211            0            0         0           0                      0   \n",
      "212            0            0         0           0                      0   \n",
      "213            0            0         0           0                      0   \n",
      "214            0            0         0           0                      0   \n",
      "215            0            0         0           0                      0   \n",
      "216            0            0         0           0                      0   \n",
      "217            0            0         0           0                      0   \n",
      "218            0            0         0           0                      0   \n",
      "219            0            0         0           0                      1   \n",
      "220            0            0         0           0                      0   \n",
      "221            0            0         0           0                      0   \n",
      "222            0            0         0           0                      0   \n",
      "223            0            0         0           0                      0   \n",
      "224            0            0         0           0                      0   \n",
      "225            0            0         0           0                      0   \n",
      "226            0            0         0           0                      0   \n",
      "\n",
      "     kneeling  transits  \n",
      "0           0         0  \n",
      "1           0         0  \n",
      "2           0         0  \n",
      "3           0         0  \n",
      "4           0         0  \n",
      "5           0         0  \n",
      "6           0         0  \n",
      "7           0         0  \n",
      "8           0         0  \n",
      "9           0         0  \n",
      "10          0         0  \n",
      "11          0         0  \n",
      "12          0         0  \n",
      "13          0         0  \n",
      "14          0         0  \n",
      "15          0         0  \n",
      "16          0         0  \n",
      "17          0         0  \n",
      "18          0         0  \n",
      "19          0         0  \n",
      "20          0         0  \n",
      "21          0         0  \n",
      "22          0         0  \n",
      "23          0         0  \n",
      "24          0         0  \n",
      "25          0         0  \n",
      "26          0         0  \n",
      "27          0         0  \n",
      "28          0         0  \n",
      "29          0         0  \n",
      "..        ...       ...  \n",
      "197         0         0  \n",
      "198         0         0  \n",
      "199         0         0  \n",
      "200         0         0  \n",
      "201         0         0  \n",
      "202         0         0  \n",
      "203         0         0  \n",
      "204         0         0  \n",
      "205         0         0  \n",
      "206         0         0  \n",
      "207         0         0  \n",
      "208         0         0  \n",
      "209         0         0  \n",
      "210         0         0  \n",
      "211         0         0  \n",
      "212         0         0  \n",
      "213         0         0  \n",
      "214         0         0  \n",
      "215         0         0  \n",
      "216         0         0  \n",
      "217         0         0  \n",
      "218         0         0  \n",
      "219         0         0  \n",
      "220         0         0  \n",
      "221         0         0  \n",
      "222         0         0  \n",
      "223         0         0  \n",
      "224         0         0  \n",
      "225         0         0  \n",
      "226         0         0  \n",
      "\n",
      "[227 rows x 24849 columns]\n"
     ]
    }
   ],
   "source": [
    "all_speeches_df = pd.read_csv('data/speech_word_counts.csv')\n",
    "print (all_speeches_df)"
   ]
  },
  {
   "cell_type": "code",
   "execution_count": 67,
   "metadata": {},
   "outputs": [
    {
     "data": {
      "text/html": [
       "<div>\n",
       "<style>\n",
       "    .dataframe thead tr:only-child th {\n",
       "        text-align: right;\n",
       "    }\n",
       "\n",
       "    .dataframe thead th {\n",
       "        text-align: left;\n",
       "    }\n",
       "\n",
       "    .dataframe tbody tr th {\n",
       "        vertical-align: top;\n",
       "    }\n",
       "</style>\n",
       "<table border=\"1\" class=\"dataframe\">\n",
       "  <thead>\n",
       "    <tr style=\"text-align: right;\">\n",
       "      <th></th>\n",
       "      <th>President</th>\n",
       "      <th>Speech</th>\n",
       "      <th>Date</th>\n",
       "      <th>Date (String)</th>\n",
       "      <th>lenin</th>\n",
       "      <th>doctor</th>\n",
       "      <th>297</th>\n",
       "      <th>humblest</th>\n",
       "      <th>penalized</th>\n",
       "      <th>introduction</th>\n",
       "      <th>...</th>\n",
       "      <th>sandburg</th>\n",
       "      <th>inviolate</th>\n",
       "      <th>supposable</th>\n",
       "      <th>unwittingly</th>\n",
       "      <th>aristocracy</th>\n",
       "      <th>cheaters</th>\n",
       "      <th>managerial</th>\n",
       "      <th>republicans—democrats</th>\n",
       "      <th>kneeling</th>\n",
       "      <th>transits</th>\n",
       "    </tr>\n",
       "  </thead>\n",
       "  <tbody>\n",
       "    <tr>\n",
       "      <th>0</th>\n",
       "      <td>george washington</td>\n",
       "      <td>state of the union address</td>\n",
       "      <td>1790-01-08 00:00:00</td>\n",
       "      <td>january 8, 1790</td>\n",
       "      <td>0</td>\n",
       "      <td>0</td>\n",
       "      <td>0</td>\n",
       "      <td>0</td>\n",
       "      <td>0</td>\n",
       "      <td>1</td>\n",
       "      <td>...</td>\n",
       "      <td>0</td>\n",
       "      <td>0</td>\n",
       "      <td>0</td>\n",
       "      <td>0</td>\n",
       "      <td>0</td>\n",
       "      <td>0</td>\n",
       "      <td>0</td>\n",
       "      <td>0</td>\n",
       "      <td>0</td>\n",
       "      <td>0</td>\n",
       "    </tr>\n",
       "    <tr>\n",
       "      <th>1</th>\n",
       "      <td>george washington</td>\n",
       "      <td>state of the union address</td>\n",
       "      <td>1790-12-08 00:00:00</td>\n",
       "      <td>december 8, 1790</td>\n",
       "      <td>0</td>\n",
       "      <td>0</td>\n",
       "      <td>0</td>\n",
       "      <td>0</td>\n",
       "      <td>0</td>\n",
       "      <td>0</td>\n",
       "      <td>...</td>\n",
       "      <td>0</td>\n",
       "      <td>0</td>\n",
       "      <td>0</td>\n",
       "      <td>0</td>\n",
       "      <td>0</td>\n",
       "      <td>0</td>\n",
       "      <td>0</td>\n",
       "      <td>0</td>\n",
       "      <td>0</td>\n",
       "      <td>0</td>\n",
       "    </tr>\n",
       "  </tbody>\n",
       "</table>\n",
       "<p>2 rows × 24849 columns</p>\n",
       "</div>"
      ],
      "text/plain": [
       "           President                      Speech                 Date  \\\n",
       "0  george washington  state of the union address  1790-01-08 00:00:00   \n",
       "1  george washington  state of the union address  1790-12-08 00:00:00   \n",
       "\n",
       "      Date (String)  lenin  doctor  297  humblest  penalized  introduction  \\\n",
       "0   january 8, 1790      0       0    0         0          0             1   \n",
       "1  december 8, 1790      0       0    0         0          0             0   \n",
       "\n",
       "     ...     sandburg  inviolate  supposable  unwittingly  aristocracy  \\\n",
       "0    ...            0          0           0            0            0   \n",
       "1    ...            0          0           0            0            0   \n",
       "\n",
       "   cheaters  managerial  republicans—democrats  kneeling  transits  \n",
       "0         0           0                      0         0         0  \n",
       "1         0           0                      0         0         0  \n",
       "\n",
       "[2 rows x 24849 columns]"
      ]
     },
     "execution_count": 67,
     "metadata": {},
     "output_type": "execute_result"
    }
   ],
   "source": [
    "\n",
    "all_speeches_df.head(2)\n"
   ]
  },
  {
   "cell_type": "code",
   "execution_count": 47,
   "metadata": {},
   "outputs": [
    {
     "name": "stdout",
     "output_type": "stream",
     "text": [
      "Object `io.TextIOWrapper` not found.\n"
     ]
    }
   ],
   "source": [
    "import os\n",
    "os.getcwd()\n",
    "?io.TextIOWrapper()"
   ]
  },
  {
   "cell_type": "markdown",
   "metadata": {},
   "source": [
    "Let's take a first look at a high-level summary of what we have so far:"
   ]
  },
  {
   "cell_type": "code",
   "execution_count": 111,
   "metadata": {},
   "outputs": [],
   "source": [
    "?pd.read_table\n"
   ]
  },
  {
   "cell_type": "code",
   "execution_count": 135,
   "metadata": {},
   "outputs": [
    {
     "data": {
      "text/plain": [
       "President\n",
       "andrew jackson            8\n",
       "james monroe              8\n",
       "george w. bush            9\n",
       "dwight d. eisenhower      9\n",
       "franklin d. roosevelt    12\n",
       "dtype: int64"
      ]
     },
     "execution_count": 135,
     "metadata": {},
     "output_type": "execute_result"
    }
   ],
   "source": [
    "# Describe the presidents data\n",
    "all_speeches_df[['President']].head()\n",
    "\n",
    "output_president = all_speeches_df.drop_duplicates()\n",
    "president_data = output_president.groupby('President').size()\n",
    "len(president_data)\n",
    "president_data.sort_values(ascending=[True]).head()\n",
    "president_data.sort_values(ascending=[True]).tail()\n",
    "\n",
    "# There are 42 presiendents giving speeches and Franklin d. Roosevelt gave the most speeches, which is 12 times.\n"
   ]
  },
  {
   "cell_type": "markdown",
   "metadata": {},
   "source": [
    "Let's find the dates of the first and last address, and how much time has passed between those:"
   ]
  },
  {
   "cell_type": "code",
   "execution_count": 136,
   "metadata": {},
   "outputs": [
    {
     "name": "stdout",
     "output_type": "stream",
     "text": [
      "(227, 24849)\n",
      "february 27, 2017\n",
      "january 8, 1790\n",
      "227\n",
      "227\n"
     ]
    }
   ],
   "source": [
    "# This is roughly the number of years between the first and last address:\n",
    "print(all_speeches_df.shape)\n",
    "\n",
    "last_yr = print (all_speeches_df.loc[226, 'Date (String)'])\n",
    "first_yr = print (all_speeches_df.loc[0, 'Date (String)'])\n",
    "\n",
    "yr_diff = print(2017 - 1790)\n",
    "\n",
    "# or \n",
    "yr_diff2 = print(len(all_speeches_df.Date))\n",
    "\n",
    "# so roughly 227 years between the first and last address\n"
   ]
  },
  {
   "cell_type": "markdown",
   "metadata": {},
   "source": [
    "Let's see during which months are the speeches most frequently delivered:"
   ]
  },
  {
   "cell_type": "code",
   "execution_count": 170,
   "metadata": {},
   "outputs": [
    {
     "ename": "AttributeError",
     "evalue": "'Series' object has no attribute 'split'",
     "output_type": "error",
     "traceback": [
      "\u001b[0;31m---------------------------------------------------------------------------\u001b[0m",
      "\u001b[0;31mAttributeError\u001b[0m                            Traceback (most recent call last)",
      "\u001b[0;32m<ipython-input-170-74562b25c369>\u001b[0m in \u001b[0;36m<module>\u001b[0;34m()\u001b[0m\n\u001b[1;32m      2\u001b[0m \u001b[0;31m# acounts\u001b[0m\u001b[0;34m\u001b[0m\u001b[0;34m\u001b[0m\u001b[0m\n\u001b[1;32m      3\u001b[0m \u001b[0;34m\u001b[0m\u001b[0m\n\u001b[0;32m----> 4\u001b[0;31m \u001b[0mlist2\u001b[0m \u001b[0;34m=\u001b[0m \u001b[0mlist1\u001b[0m\u001b[0;34m.\u001b[0m\u001b[0msplit\u001b[0m\u001b[0;34m(\u001b[0m\u001b[0;34m)\u001b[0m\u001b[0;34m\u001b[0m\u001b[0m\n\u001b[0m",
      "\u001b[0;32m/Users/Kenz/anaconda/lib/python3.6/site-packages/pandas/core/generic.py\u001b[0m in \u001b[0;36m__getattr__\u001b[0;34m(self, name)\u001b[0m\n\u001b[1;32m   2968\u001b[0m             \u001b[0;32mif\u001b[0m \u001b[0mname\u001b[0m \u001b[0;32min\u001b[0m \u001b[0mself\u001b[0m\u001b[0;34m.\u001b[0m\u001b[0m_info_axis\u001b[0m\u001b[0;34m:\u001b[0m\u001b[0;34m\u001b[0m\u001b[0m\n\u001b[1;32m   2969\u001b[0m                 \u001b[0;32mreturn\u001b[0m \u001b[0mself\u001b[0m\u001b[0;34m[\u001b[0m\u001b[0mname\u001b[0m\u001b[0;34m]\u001b[0m\u001b[0;34m\u001b[0m\u001b[0m\n\u001b[0;32m-> 2970\u001b[0;31m             \u001b[0;32mreturn\u001b[0m \u001b[0mobject\u001b[0m\u001b[0;34m.\u001b[0m\u001b[0m__getattribute__\u001b[0m\u001b[0;34m(\u001b[0m\u001b[0mself\u001b[0m\u001b[0;34m,\u001b[0m \u001b[0mname\u001b[0m\u001b[0;34m)\u001b[0m\u001b[0;34m\u001b[0m\u001b[0m\n\u001b[0m\u001b[1;32m   2971\u001b[0m \u001b[0;34m\u001b[0m\u001b[0m\n\u001b[1;32m   2972\u001b[0m     \u001b[0;32mdef\u001b[0m \u001b[0m__setattr__\u001b[0m\u001b[0;34m(\u001b[0m\u001b[0mself\u001b[0m\u001b[0;34m,\u001b[0m \u001b[0mname\u001b[0m\u001b[0;34m,\u001b[0m \u001b[0mvalue\u001b[0m\u001b[0;34m)\u001b[0m\u001b[0;34m:\u001b[0m\u001b[0;34m\u001b[0m\u001b[0m\n",
      "\u001b[0;31mAttributeError\u001b[0m: 'Series' object has no attribute 'split'"
     ]
    }
   ],
   "source": [
    "# This is a count of the number of addresses delivered on any given month\n",
    "acounts \n"
   ]
  },
  {
   "cell_type": "code",
   "execution_count": 168,
   "metadata": {},
   "outputs": [
    {
     "data": {
      "text/html": [
       "<div>\n",
       "<style>\n",
       "    .dataframe thead tr:only-child th {\n",
       "        text-align: right;\n",
       "    }\n",
       "\n",
       "    .dataframe thead th {\n",
       "        text-align: left;\n",
       "    }\n",
       "\n",
       "    .dataframe tbody tr th {\n",
       "        vertical-align: top;\n",
       "    }\n",
       "</style>\n",
       "<table border=\"1\" class=\"dataframe\">\n",
       "  <thead>\n",
       "    <tr style=\"text-align: right;\">\n",
       "      <th></th>\n",
       "      <th>Date (String)</th>\n",
       "    </tr>\n",
       "  </thead>\n",
       "  <tbody>\n",
       "    <tr>\n",
       "      <th>0</th>\n",
       "      <td>january 8, 1790</td>\n",
       "    </tr>\n",
       "    <tr>\n",
       "      <th>1</th>\n",
       "      <td>december 8, 1790</td>\n",
       "    </tr>\n",
       "    <tr>\n",
       "      <th>2</th>\n",
       "      <td>october 25, 1791</td>\n",
       "    </tr>\n",
       "    <tr>\n",
       "      <th>3</th>\n",
       "      <td>november 6, 1792</td>\n",
       "    </tr>\n",
       "    <tr>\n",
       "      <th>4</th>\n",
       "      <td>december 3, 1793</td>\n",
       "    </tr>\n",
       "  </tbody>\n",
       "</table>\n",
       "</div>"
      ],
      "text/plain": [
       "      Date (String)\n",
       "0   january 8, 1790\n",
       "1  december 8, 1790\n",
       "2  october 25, 1791\n",
       "3  november 6, 1792\n",
       "4  december 3, 1793"
      ]
     },
     "execution_count": 168,
     "metadata": {},
     "output_type": "execute_result"
    }
   ],
   "source": [
    "list1 = all_speeches_df.loc[0:226, 'Date (String)']\n",
    "\n",
    "all_speeches_date_df = list1.to_frame(name=None)\n",
    "\n",
    "all_speeches_date_df.head()"
   ]
  },
  {
   "cell_type": "code",
   "execution_count": 10,
   "metadata": {},
   "outputs": [
    {
     "ename": "FileNotFoundError",
     "evalue": "[Errno 2] No such file or directory: 'fig/addresses_month.png'",
     "output_type": "error",
     "traceback": [
      "\u001b[0;31m---------------------------------------------------------------------------\u001b[0m",
      "\u001b[0;31mFileNotFoundError\u001b[0m                         Traceback (most recent call last)",
      "\u001b[0;32m<ipython-input-10-a814a6c73f26>\u001b[0m in \u001b[0;36m<module>\u001b[0;34m()\u001b[0m\n\u001b[1;32m      1\u001b[0m \u001b[0;31m# And this is a plot of these:\u001b[0m\u001b[0;34m\u001b[0m\u001b[0;34m\u001b[0m\u001b[0m\n\u001b[0;32m----> 2\u001b[0;31m \u001b[0mplt\u001b[0m\u001b[0;34m.\u001b[0m\u001b[0msavefig\u001b[0m\u001b[0;34m(\u001b[0m\u001b[0;34m'fig/addresses_month.png'\u001b[0m\u001b[0;34m)\u001b[0m\u001b[0;34m;\u001b[0m\u001b[0;34m\u001b[0m\u001b[0m\n\u001b[0m",
      "\u001b[0;32m/Users/Kenz/anaconda/lib/python3.6/site-packages/matplotlib/pyplot.py\u001b[0m in \u001b[0;36msavefig\u001b[0;34m(*args, **kwargs)\u001b[0m\n\u001b[1;32m    695\u001b[0m \u001b[0;32mdef\u001b[0m \u001b[0msavefig\u001b[0m\u001b[0;34m(\u001b[0m\u001b[0;34m*\u001b[0m\u001b[0margs\u001b[0m\u001b[0;34m,\u001b[0m \u001b[0;34m**\u001b[0m\u001b[0mkwargs\u001b[0m\u001b[0;34m)\u001b[0m\u001b[0;34m:\u001b[0m\u001b[0;34m\u001b[0m\u001b[0m\n\u001b[1;32m    696\u001b[0m     \u001b[0mfig\u001b[0m \u001b[0;34m=\u001b[0m \u001b[0mgcf\u001b[0m\u001b[0;34m(\u001b[0m\u001b[0;34m)\u001b[0m\u001b[0;34m\u001b[0m\u001b[0m\n\u001b[0;32m--> 697\u001b[0;31m     \u001b[0mres\u001b[0m \u001b[0;34m=\u001b[0m \u001b[0mfig\u001b[0m\u001b[0;34m.\u001b[0m\u001b[0msavefig\u001b[0m\u001b[0;34m(\u001b[0m\u001b[0;34m*\u001b[0m\u001b[0margs\u001b[0m\u001b[0;34m,\u001b[0m \u001b[0;34m**\u001b[0m\u001b[0mkwargs\u001b[0m\u001b[0;34m)\u001b[0m\u001b[0;34m\u001b[0m\u001b[0m\n\u001b[0m\u001b[1;32m    698\u001b[0m     \u001b[0mfig\u001b[0m\u001b[0;34m.\u001b[0m\u001b[0mcanvas\u001b[0m\u001b[0;34m.\u001b[0m\u001b[0mdraw_idle\u001b[0m\u001b[0;34m(\u001b[0m\u001b[0;34m)\u001b[0m   \u001b[0;31m# need this if 'transparent=True' to reset colors\u001b[0m\u001b[0;34m\u001b[0m\u001b[0m\n\u001b[1;32m    699\u001b[0m     \u001b[0;32mreturn\u001b[0m \u001b[0mres\u001b[0m\u001b[0;34m\u001b[0m\u001b[0m\n",
      "\u001b[0;32m/Users/Kenz/anaconda/lib/python3.6/site-packages/matplotlib/figure.py\u001b[0m in \u001b[0;36msavefig\u001b[0;34m(self, *args, **kwargs)\u001b[0m\n\u001b[1;32m   1571\u001b[0m             \u001b[0mself\u001b[0m\u001b[0;34m.\u001b[0m\u001b[0mset_frameon\u001b[0m\u001b[0;34m(\u001b[0m\u001b[0mframeon\u001b[0m\u001b[0;34m)\u001b[0m\u001b[0;34m\u001b[0m\u001b[0m\n\u001b[1;32m   1572\u001b[0m \u001b[0;34m\u001b[0m\u001b[0m\n\u001b[0;32m-> 1573\u001b[0;31m         \u001b[0mself\u001b[0m\u001b[0;34m.\u001b[0m\u001b[0mcanvas\u001b[0m\u001b[0;34m.\u001b[0m\u001b[0mprint_figure\u001b[0m\u001b[0;34m(\u001b[0m\u001b[0;34m*\u001b[0m\u001b[0margs\u001b[0m\u001b[0;34m,\u001b[0m \u001b[0;34m**\u001b[0m\u001b[0mkwargs\u001b[0m\u001b[0;34m)\u001b[0m\u001b[0;34m\u001b[0m\u001b[0m\n\u001b[0m\u001b[1;32m   1574\u001b[0m \u001b[0;34m\u001b[0m\u001b[0m\n\u001b[1;32m   1575\u001b[0m         \u001b[0;32mif\u001b[0m \u001b[0mframeon\u001b[0m\u001b[0;34m:\u001b[0m\u001b[0;34m\u001b[0m\u001b[0m\n",
      "\u001b[0;32m/Users/Kenz/anaconda/lib/python3.6/site-packages/matplotlib/backend_bases.py\u001b[0m in \u001b[0;36mprint_figure\u001b[0;34m(self, filename, dpi, facecolor, edgecolor, orientation, format, **kwargs)\u001b[0m\n\u001b[1;32m   2250\u001b[0m                 \u001b[0morientation\u001b[0m\u001b[0;34m=\u001b[0m\u001b[0morientation\u001b[0m\u001b[0;34m,\u001b[0m\u001b[0;34m\u001b[0m\u001b[0m\n\u001b[1;32m   2251\u001b[0m                 \u001b[0mbbox_inches_restore\u001b[0m\u001b[0;34m=\u001b[0m\u001b[0m_bbox_inches_restore\u001b[0m\u001b[0;34m,\u001b[0m\u001b[0;34m\u001b[0m\u001b[0m\n\u001b[0;32m-> 2252\u001b[0;31m                 **kwargs)\n\u001b[0m\u001b[1;32m   2253\u001b[0m         \u001b[0;32mfinally\u001b[0m\u001b[0;34m:\u001b[0m\u001b[0;34m\u001b[0m\u001b[0m\n\u001b[1;32m   2254\u001b[0m             \u001b[0;32mif\u001b[0m \u001b[0mbbox_inches\u001b[0m \u001b[0;32mand\u001b[0m \u001b[0mrestore_bbox\u001b[0m\u001b[0;34m:\u001b[0m\u001b[0;34m\u001b[0m\u001b[0m\n",
      "\u001b[0;32m/Users/Kenz/anaconda/lib/python3.6/site-packages/matplotlib/backends/backend_agg.py\u001b[0m in \u001b[0;36mprint_png\u001b[0;34m(self, filename_or_obj, *args, **kwargs)\u001b[0m\n\u001b[1;32m    548\u001b[0m         \u001b[0mrenderer\u001b[0m\u001b[0;34m.\u001b[0m\u001b[0mdpi\u001b[0m \u001b[0;34m=\u001b[0m \u001b[0mself\u001b[0m\u001b[0;34m.\u001b[0m\u001b[0mfigure\u001b[0m\u001b[0;34m.\u001b[0m\u001b[0mdpi\u001b[0m\u001b[0;34m\u001b[0m\u001b[0m\n\u001b[1;32m    549\u001b[0m         \u001b[0;32mif\u001b[0m \u001b[0mis_string_like\u001b[0m\u001b[0;34m(\u001b[0m\u001b[0mfilename_or_obj\u001b[0m\u001b[0;34m)\u001b[0m\u001b[0;34m:\u001b[0m\u001b[0;34m\u001b[0m\u001b[0m\n\u001b[0;32m--> 550\u001b[0;31m             \u001b[0mfilename_or_obj\u001b[0m \u001b[0;34m=\u001b[0m \u001b[0mopen\u001b[0m\u001b[0;34m(\u001b[0m\u001b[0mfilename_or_obj\u001b[0m\u001b[0;34m,\u001b[0m \u001b[0;34m'wb'\u001b[0m\u001b[0;34m)\u001b[0m\u001b[0;34m\u001b[0m\u001b[0m\n\u001b[0m\u001b[1;32m    551\u001b[0m             \u001b[0mclose\u001b[0m \u001b[0;34m=\u001b[0m \u001b[0;32mTrue\u001b[0m\u001b[0;34m\u001b[0m\u001b[0m\n\u001b[1;32m    552\u001b[0m         \u001b[0;32melse\u001b[0m\u001b[0;34m:\u001b[0m\u001b[0;34m\u001b[0m\u001b[0m\n",
      "\u001b[0;31mFileNotFoundError\u001b[0m: [Errno 2] No such file or directory: 'fig/addresses_month.png'"
     ]
    },
    {
     "data": {
      "text/plain": [
       "<matplotlib.figure.Figure at 0x11ea5d080>"
      ]
     },
     "metadata": {},
     "output_type": "display_data"
    }
   ],
   "source": [
    "# And this is a plot of these:\n",
    "\n",
    "plt.savefig('fig/addresses_month.png');"
   ]
  },
  {
   "cell_type": "markdown",
   "metadata": {},
   "source": [
    "Let's look at the distribution of differences between successive speeches:"
   ]
  },
  {
   "cell_type": "markdown",
   "metadata": {},
   "source": [
    "Where is the largest gap? We can ask the `ddiff` series for its location:"
   ]
  },
  {
   "cell_type": "code",
   "execution_count": 18,
   "metadata": {},
   "outputs": [
    {
     "data": {
      "text/plain": [
       "104"
      ]
     },
     "execution_count": 18,
     "metadata": {},
     "output_type": "execute_result"
    }
   ],
   "source": [
    "# this is the index of the largest gap:\n",
    "dgap"
   ]
  },
  {
   "cell_type": "markdown",
   "metadata": {},
   "source": [
    "Let's look at the dates around this index:"
   ]
  },
  {
   "cell_type": "code",
   "execution_count": 19,
   "metadata": {},
   "outputs": [
    {
     "data": {
      "text/plain": [
       "102   1891-12-09\n",
       "103   1892-12-06\n",
       "104   1897-12-06\n",
       "105   1898-12-05\n",
       "Name: date, dtype: datetime64[ns]"
      ]
     },
     "execution_count": 19,
     "metadata": {},
     "output_type": "execute_result"
    }
   ],
   "source": [
    "dates[dgap-2 : dgap+2]"
   ]
  },
  {
   "cell_type": "markdown",
   "metadata": {},
   "source": [
    "As well as a plot of these times:"
   ]
  },
  {
   "cell_type": "code",
   "execution_count": 20,
   "metadata": {},
   "outputs": [
    {
     "data": {
      "image/png": "[encoded data removed]",
      "text/plain": [
       "<matplotlib.figure.Figure at 0x1a1e652978>"
      ]
     },
     "metadata": {},
     "output_type": "display_data"
    }
   ],
   "source": [
    "# A plot of the times, along with 'rug' markers on the x axis.\n",
    "f.savefig('fig/timeline.png')"
   ]
  },
  {
   "cell_type": "markdown",
   "metadata": {},
   "source": [
    "What happened at that gap?"
   ]
  },
  {
   "cell_type": "markdown",
   "metadata": {},
   "source": [
    "## Intermediate results\n",
    "\n",
    "Let's save some intermediate results for further analysis. This lets us work on subsequent notebooks  without rerunning this one.  We use the Pandas HDF5 support for efficient and type-safe serialization of data frames, and the python builtin [shelve](https://docs.python.org/3/library/shelve.html) module for simple Python variables.  We'll create for each notebook variable stores with the notebook number, one for dataframes (`df1.h5`, `df2.h5`, etc.) and one for python variables (`vars1.db`, `vars2.db`, etc.).  These will all go into the `results/` subdirectory."
   ]
  },
  {
   "cell_type": "code",
   "execution_count": 21,
   "metadata": {
    "collapsed": true
   },
   "outputs": [],
   "source": [
    "addresses.to_hdf('results/df1.h5', 'addresses')\n",
    "with shelve.open('results/vars1') as db:\n",
    "    db['speeches'] = speeches"
   ]
  }
 ],
 "metadata": {
  "kernelspec": {
   "display_name": "Python 3",
   "language": "python",
   "name": "python3"
  },
  "language_info": {
   "codemirror_mode": {
    "name": "ipython",
    "version": 3
   },
   "file_extension": ".py",
   "mimetype": "text/x-python",
   "name": "python",
   "nbconvert_exporter": "python",
   "pygments_lexer": "ipython3",
   "version": "3.6.1"
  }
 },
 "nbformat": 4,
 "nbformat_minor": 2
}
